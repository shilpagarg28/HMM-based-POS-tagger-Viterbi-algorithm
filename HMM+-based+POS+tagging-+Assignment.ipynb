{
 "cells": [
  {
   "cell_type": "markdown",
   "metadata": {},
   "source": [
    "## POS tagging using modified Viterbi"
   ]
  },
  {
   "cell_type": "markdown",
   "metadata": {},
   "source": [
    "### Data Preparation"
   ]
  },
  {
   "cell_type": "code",
   "execution_count": 548,
   "metadata": {},
   "outputs": [],
   "source": [
    "#Importing libraries\n",
    "import nltk, re, pprint\n",
    "import numpy as np\n",
    "import pandas as pd\n",
    "import requests\n",
    "import matplotlib.pyplot as plt\n",
    "import seaborn as sns\n",
    "import pprint, time\n",
    "import random\n",
    "from sklearn.model_selection import train_test_split\n",
    "from nltk.tokenize import word_tokenize"
   ]
  },
  {
   "cell_type": "code",
   "execution_count": 549,
   "metadata": {
    "scrolled": true
   },
   "outputs": [],
   "source": [
    "# reading the Treebank tagged sentences\n",
    "nltk_data = list(nltk.corpus.treebank.tagged_sents(tagset='universal'))"
   ]
  },
  {
   "cell_type": "code",
   "execution_count": 550,
   "metadata": {},
   "outputs": [
    {
     "name": "stdout",
     "output_type": "stream",
     "text": [
      "[[('Pierre', 'NOUN'), ('Vinken', 'NOUN'), (',', '.'), ('61', 'NUM'), ('years', 'NOUN'), ('old', 'ADJ'), (',', '.'), ('will', 'VERB'), ('join', 'VERB'), ('the', 'DET'), ('board', 'NOUN'), ('as', 'ADP'), ('a', 'DET'), ('nonexecutive', 'ADJ'), ('director', 'NOUN'), ('Nov.', 'NOUN'), ('29', 'NUM'), ('.', '.')], [('Mr.', 'NOUN'), ('Vinken', 'NOUN'), ('is', 'VERB'), ('chairman', 'NOUN'), ('of', 'ADP'), ('Elsevier', 'NOUN'), ('N.V.', 'NOUN'), (',', '.'), ('the', 'DET'), ('Dutch', 'NOUN'), ('publishing', 'VERB'), ('group', 'NOUN'), ('.', '.')], [('Rudolph', 'NOUN'), ('Agnew', 'NOUN'), (',', '.'), ('55', 'NUM'), ('years', 'NOUN'), ('old', 'ADJ'), ('and', 'CONJ'), ('former', 'ADJ'), ('chairman', 'NOUN'), ('of', 'ADP'), ('Consolidated', 'NOUN'), ('Gold', 'NOUN'), ('Fields', 'NOUN'), ('PLC', 'NOUN'), (',', '.'), ('was', 'VERB'), ('named', 'VERB'), ('*-1', 'X'), ('a', 'DET'), ('nonexecutive', 'ADJ'), ('director', 'NOUN'), ('of', 'ADP'), ('this', 'DET'), ('British', 'ADJ'), ('industrial', 'ADJ'), ('conglomerate', 'NOUN'), ('.', '.')], [('A', 'DET'), ('form', 'NOUN'), ('of', 'ADP'), ('asbestos', 'NOUN'), ('once', 'ADV'), ('used', 'VERB'), ('*', 'X'), ('*', 'X'), ('to', 'PRT'), ('make', 'VERB'), ('Kent', 'NOUN'), ('cigarette', 'NOUN'), ('filters', 'NOUN'), ('has', 'VERB'), ('caused', 'VERB'), ('a', 'DET'), ('high', 'ADJ'), ('percentage', 'NOUN'), ('of', 'ADP'), ('cancer', 'NOUN'), ('deaths', 'NOUN'), ('among', 'ADP'), ('a', 'DET'), ('group', 'NOUN'), ('of', 'ADP'), ('workers', 'NOUN'), ('exposed', 'VERB'), ('*', 'X'), ('to', 'PRT'), ('it', 'PRON'), ('more', 'ADV'), ('than', 'ADP'), ('30', 'NUM'), ('years', 'NOUN'), ('ago', 'ADP'), (',', '.'), ('researchers', 'NOUN'), ('reported', 'VERB'), ('0', 'X'), ('*T*-1', 'X'), ('.', '.')], [('The', 'DET'), ('asbestos', 'NOUN'), ('fiber', 'NOUN'), (',', '.'), ('crocidolite', 'NOUN'), (',', '.'), ('is', 'VERB'), ('unusually', 'ADV'), ('resilient', 'ADJ'), ('once', 'ADP'), ('it', 'PRON'), ('enters', 'VERB'), ('the', 'DET'), ('lungs', 'NOUN'), (',', '.'), ('with', 'ADP'), ('even', 'ADV'), ('brief', 'ADJ'), ('exposures', 'NOUN'), ('to', 'PRT'), ('it', 'PRON'), ('causing', 'VERB'), ('symptoms', 'NOUN'), ('that', 'DET'), ('*T*-1', 'X'), ('show', 'VERB'), ('up', 'PRT'), ('decades', 'NOUN'), ('later', 'ADJ'), (',', '.'), ('researchers', 'NOUN'), ('said', 'VERB'), ('0', 'X'), ('*T*-2', 'X'), ('.', '.')], [('Lorillard', 'NOUN'), ('Inc.', 'NOUN'), (',', '.'), ('the', 'DET'), ('unit', 'NOUN'), ('of', 'ADP'), ('New', 'ADJ'), ('York-based', 'ADJ'), ('Loews', 'NOUN'), ('Corp.', 'NOUN'), ('that', 'DET'), ('*T*-2', 'X'), ('makes', 'VERB'), ('Kent', 'NOUN'), ('cigarettes', 'NOUN'), (',', '.'), ('stopped', 'VERB'), ('using', 'VERB'), ('crocidolite', 'NOUN'), ('in', 'ADP'), ('its', 'PRON'), ('Micronite', 'NOUN'), ('cigarette', 'NOUN'), ('filters', 'NOUN'), ('in', 'ADP'), ('1956', 'NUM'), ('.', '.')], [('Although', 'ADP'), ('preliminary', 'ADJ'), ('findings', 'NOUN'), ('were', 'VERB'), ('reported', 'VERB'), ('*-2', 'X'), ('more', 'ADV'), ('than', 'ADP'), ('a', 'DET'), ('year', 'NOUN'), ('ago', 'ADP'), (',', '.'), ('the', 'DET'), ('latest', 'ADJ'), ('results', 'NOUN'), ('appear', 'VERB'), ('in', 'ADP'), ('today', 'NOUN'), (\"'s\", 'PRT'), ('New', 'NOUN'), ('England', 'NOUN'), ('Journal', 'NOUN'), ('of', 'ADP'), ('Medicine', 'NOUN'), (',', '.'), ('a', 'DET'), ('forum', 'NOUN'), ('likely', 'ADJ'), ('*', 'X'), ('to', 'PRT'), ('bring', 'VERB'), ('new', 'ADJ'), ('attention', 'NOUN'), ('to', 'PRT'), ('the', 'DET'), ('problem', 'NOUN'), ('.', '.')], [('A', 'DET'), ('Lorillard', 'NOUN'), ('spokewoman', 'NOUN'), ('said', 'VERB'), (',', '.'), ('``', '.'), ('This', 'DET'), ('is', 'VERB'), ('an', 'DET'), ('old', 'ADJ'), ('story', 'NOUN'), ('.', '.')], [('We', 'PRON'), (\"'re\", 'VERB'), ('talking', 'VERB'), ('about', 'ADP'), ('years', 'NOUN'), ('ago', 'ADP'), ('before', 'ADP'), ('anyone', 'NOUN'), ('heard', 'VERB'), ('of', 'ADP'), ('asbestos', 'NOUN'), ('having', 'VERB'), ('any', 'DET'), ('questionable', 'ADJ'), ('properties', 'NOUN'), ('.', '.')], [('There', 'DET'), ('is', 'VERB'), ('no', 'DET'), ('asbestos', 'NOUN'), ('in', 'ADP'), ('our', 'PRON'), ('products', 'NOUN'), ('now', 'ADV'), ('.', '.'), (\"''\", '.')], [('Neither', 'DET'), ('Lorillard', 'NOUN'), ('nor', 'CONJ'), ('the', 'DET'), ('researchers', 'NOUN'), ('who', 'PRON'), ('*T*-3', 'X'), ('studied', 'VERB'), ('the', 'DET'), ('workers', 'NOUN'), ('were', 'VERB'), ('aware', 'ADJ'), ('of', 'ADP'), ('any', 'DET'), ('research', 'NOUN'), ('on', 'ADP'), ('smokers', 'NOUN'), ('of', 'ADP'), ('the', 'DET'), ('Kent', 'NOUN'), ('cigarettes', 'NOUN'), ('.', '.')], [('``', '.'), ('We', 'PRON'), ('have', 'VERB'), ('no', 'DET'), ('useful', 'ADJ'), ('information', 'NOUN'), ('on', 'ADP'), ('whether', 'ADP'), ('users', 'NOUN'), ('are', 'VERB'), ('at', 'ADP'), ('risk', 'NOUN'), (',', '.'), (\"''\", '.'), ('said', 'VERB'), ('*T*-1', 'X'), ('James', 'NOUN'), ('A.', 'NOUN'), ('Talcott', 'NOUN'), ('of', 'ADP'), ('Boston', 'NOUN'), (\"'s\", 'PRT'), ('Dana-Farber', 'NOUN'), ('Cancer', 'NOUN'), ('Institute', 'NOUN'), ('.', '.')], [('Dr.', 'NOUN'), ('Talcott', 'NOUN'), ('led', 'VERB'), ('a', 'DET'), ('team', 'NOUN'), ('of', 'ADP'), ('researchers', 'NOUN'), ('from', 'ADP'), ('the', 'DET'), ('National', 'NOUN'), ('Cancer', 'NOUN'), ('Institute', 'NOUN'), ('and', 'CONJ'), ('the', 'DET'), ('medical', 'ADJ'), ('schools', 'NOUN'), ('of', 'ADP'), ('Harvard', 'NOUN'), ('University', 'NOUN'), ('and', 'CONJ'), ('Boston', 'NOUN'), ('University', 'NOUN'), ('.', '.')], [('The', 'DET'), ('Lorillard', 'NOUN'), ('spokeswoman', 'NOUN'), ('said', 'VERB'), ('0', 'X'), ('asbestos', 'NOUN'), ('was', 'VERB'), ('used', 'VERB'), ('*-1', 'X'), ('in', 'ADP'), ('``', '.'), ('very', 'ADV'), ('modest', 'ADJ'), ('amounts', 'NOUN'), (\"''\", '.'), ('in', 'ADP'), ('*', 'X'), ('making', 'VERB'), ('paper', 'NOUN'), ('for', 'ADP'), ('the', 'DET'), ('filters', 'NOUN'), ('in', 'ADP'), ('the', 'DET'), ('early', 'ADJ'), ('1950s', 'NUM'), ('and', 'CONJ'), ('replaced', 'VERB'), ('*-1', 'X'), ('with', 'ADP'), ('a', 'DET'), ('different', 'ADJ'), ('type', 'NOUN'), ('of', 'ADP'), ('filter', 'NOUN'), ('in', 'ADP'), ('1956', 'NUM'), ('.', '.')], [('From', 'ADP'), ('1953', 'NUM'), ('to', 'PRT'), ('1955', 'NUM'), (',', '.'), ('9.8', 'NUM'), ('billion', 'NUM'), ('Kent', 'NOUN'), ('cigarettes', 'NOUN'), ('with', 'ADP'), ('the', 'DET'), ('filters', 'NOUN'), ('were', 'VERB'), ('sold', 'VERB'), ('*-3', 'X'), (',', '.'), ('the', 'DET'), ('company', 'NOUN'), ('said', 'VERB'), ('0', 'X'), ('*T*-1', 'X'), ('.', '.')], [('Among', 'ADP'), ('33', 'NUM'), ('men', 'NOUN'), ('who', 'PRON'), ('*T*-4', 'X'), ('worked', 'VERB'), ('closely', 'ADV'), ('with', 'ADP'), ('the', 'DET'), ('substance', 'NOUN'), (',', '.'), ('28', 'NUM'), ('*ICH*-1', 'X'), ('have', 'VERB'), ('died', 'VERB'), ('--', '.'), ('more', 'ADJ'), ('than', 'ADP'), ('three', 'NUM'), ('times', 'NOUN'), ('the', 'DET'), ('expected', 'VERB'), ('number', 'NOUN'), ('.', '.')], [('Four', 'NUM'), ('of', 'ADP'), ('the', 'DET'), ('five', 'NUM'), ('surviving', 'VERB'), ('workers', 'NOUN'), ('have', 'VERB'), ('asbestos-related', 'ADJ'), ('diseases', 'NOUN'), (',', '.'), ('including', 'VERB'), ('three', 'NUM'), ('with', 'ADP'), ('recently', 'ADV'), ('diagnosed', 'VERB'), ('cancer', 'NOUN'), ('.', '.')], [('The', 'DET'), ('total', 'NOUN'), ('of', 'ADP'), ('18', 'NUM'), ('deaths', 'NOUN'), ('from', 'ADP'), ('malignant', 'ADJ'), ('mesothelioma', 'NOUN'), (',', '.'), ('lung', 'NOUN'), ('cancer', 'NOUN'), ('and', 'CONJ'), ('asbestosis', 'NOUN'), ('was', 'VERB'), ('far', 'ADV'), ('higher', 'ADJ'), ('than', 'ADP'), ('*', 'X'), ('expected', 'VERB'), ('*?*', 'X'), (',', '.'), ('the', 'DET'), ('researchers', 'NOUN'), ('said', 'VERB'), ('0', 'X'), ('*T*-1', 'X'), ('.', '.')], [('``', '.'), ('The', 'DET'), ('morbidity', 'NOUN'), ('rate', 'NOUN'), ('is', 'VERB'), ('a', 'DET'), ('striking', 'ADJ'), ('finding', 'NOUN'), ('among', 'ADP'), ('those', 'DET'), ('of', 'ADP'), ('us', 'PRON'), ('who', 'PRON'), ('*T*-5', 'X'), ('study', 'VERB'), ('asbestos-related', 'ADJ'), ('diseases', 'NOUN'), (',', '.'), (\"''\", '.'), ('said', 'VERB'), ('*T*-1', 'X'), ('Dr.', 'NOUN'), ('Talcott', 'NOUN'), ('.', '.')], [('The', 'DET'), ('percentage', 'NOUN'), ('of', 'ADP'), ('lung', 'NOUN'), ('cancer', 'NOUN'), ('deaths', 'NOUN'), ('among', 'ADP'), ('the', 'DET'), ('workers', 'NOUN'), ('at', 'ADP'), ('the', 'DET'), ('West', 'NOUN'), ('Groton', 'NOUN'), (',', '.'), ('Mass.', 'NOUN'), (',', '.'), ('paper', 'NOUN'), ('factory', 'NOUN'), ('appears', 'VERB'), ('*-1', 'X'), ('to', 'PRT'), ('be', 'VERB'), ('the', 'DET'), ('highest', 'ADJ'), ('for', 'ADP'), ('any', 'DET'), ('asbestos', 'NOUN'), ('workers', 'NOUN'), ('studied', 'VERB'), ('*', 'X'), ('in', 'ADP'), ('Western', 'ADJ'), ('industrialized', 'VERB'), ('countries', 'NOUN'), (',', '.'), ('he', 'PRON'), ('said', 'VERB'), ('0', 'X'), ('*T*-2', 'X'), ('.', '.')], [('The', 'DET'), ('plant', 'NOUN'), (',', '.'), ('which', 'DET'), ('*T*-1', 'X'), ('is', 'VERB'), ('owned', 'VERB'), ('*-4', 'X'), ('by', 'ADP'), ('Hollingsworth', 'NOUN'), ('&', 'CONJ'), ('Vose', 'NOUN'), ('Co.', 'NOUN'), (',', '.'), ('was', 'VERB'), ('under', 'ADP'), ('contract', 'NOUN'), ('*ICH*-2', 'X'), ('with', 'ADP'), ('Lorillard', 'NOUN'), ('*', 'X'), ('to', 'PRT'), ('make', 'VERB'), ('the', 'DET'), ('cigarette', 'NOUN'), ('filters', 'NOUN'), ('.', '.')], [('The', 'DET'), ('finding', 'NOUN'), ('probably', 'ADV'), ('will', 'VERB'), ('support', 'VERB'), ('those', 'DET'), ('who', 'PRON'), ('*T*-6', 'X'), ('argue', 'VERB'), ('that', 'ADP'), ('the', 'DET'), ('U.S.', 'NOUN'), ('should', 'VERB'), ('regulate', 'VERB'), ('the', 'DET'), ('class', 'NOUN'), ('of', 'ADP'), ('asbestos', 'NOUN'), ('including', 'VERB'), ('crocidolite', 'NOUN'), ('more', 'ADV'), ('stringently', 'ADV'), ('than', 'ADP'), ('the', 'DET'), ('common', 'ADJ'), ('kind', 'NOUN'), ('of', 'ADP'), ('asbestos', 'NOUN'), (',', '.'), ('chrysotile', 'NOUN'), (',', '.'), ('found', 'VERB'), ('*', 'X'), ('in', 'ADP'), ('most', 'ADJ'), ('schools', 'NOUN'), ('and', 'CONJ'), ('other', 'ADJ'), ('buildings', 'NOUN'), (',', '.'), ('Dr.', 'NOUN'), ('Talcott', 'NOUN'), ('said', 'VERB'), ('0', 'X'), ('*T*-1', 'X'), ('.', '.')], [('The', 'DET'), ('U.S.', 'NOUN'), ('is', 'VERB'), ('one', 'NUM'), ('of', 'ADP'), ('the', 'DET'), ('few', 'ADJ'), ('industrialized', 'VERB'), ('nations', 'NOUN'), ('that', 'DET'), ('*T*-7', 'X'), ('does', 'VERB'), (\"n't\", 'ADV'), ('have', 'VERB'), ('a', 'DET'), ('higher', 'ADJ'), ('standard', 'NOUN'), ('of', 'ADP'), ('regulation', 'NOUN'), ('for', 'ADP'), ('the', 'DET'), ('smooth', 'ADJ'), (',', '.'), ('needle-like', 'ADJ'), ('fibers', 'NOUN'), ('such', 'ADJ'), ('as', 'ADP'), ('crocidolite', 'NOUN'), ('that', 'DET'), ('*T*-1', 'X'), ('are', 'VERB'), ('classified', 'VERB'), ('*-5', 'X'), ('as', 'ADP'), ('amphobiles', 'NOUN'), (',', '.'), ('according', 'VERB'), ('to', 'PRT'), ('Brooke', 'NOUN'), ('T.', 'NOUN'), ('Mossman', 'NOUN'), (',', '.'), ('a', 'DET'), ('professor', 'NOUN'), ('of', 'ADP'), ('pathlogy', 'NOUN'), ('at', 'ADP'), ('the', 'DET'), ('University', 'NOUN'), ('of', 'ADP'), ('Vermont', 'NOUN'), ('College', 'NOUN'), ('of', 'ADP'), ('Medicine', 'NOUN'), ('.', '.')], [('More', 'ADV'), ('common', 'ADJ'), ('chrysotile', 'NOUN'), ('fibers', 'NOUN'), ('are', 'VERB'), ('curly', 'ADJ'), ('and', 'CONJ'), ('are', 'VERB'), ('more', 'ADV'), ('easily', 'ADV'), ('rejected', 'VERB'), ('*-1', 'X'), ('by', 'ADP'), ('the', 'DET'), ('body', 'NOUN'), (',', '.'), ('Dr.', 'NOUN'), ('Mossman', 'NOUN'), ('explained', 'VERB'), ('0', 'X'), ('*T*-2', 'X'), ('.', '.')], [('In', 'ADP'), ('July', 'NOUN'), (',', '.'), ('the', 'DET'), ('Environmental', 'NOUN'), ('Protection', 'NOUN'), ('Agency', 'NOUN'), ('imposed', 'VERB'), ('a', 'DET'), ('gradual', 'ADJ'), ('ban', 'NOUN'), ('on', 'ADP'), ('virtually', 'ADV'), ('all', 'DET'), ('uses', 'NOUN'), ('of', 'ADP'), ('asbestos', 'NOUN'), ('.', '.')], [('By', 'ADP'), ('1997', 'NUM'), (',', '.'), ('almost', 'ADV'), ('all', 'DET'), ('remaining', 'VERB'), ('uses', 'NOUN'), ('of', 'ADP'), ('cancer-causing', 'ADJ'), ('asbestos', 'NOUN'), ('will', 'VERB'), ('be', 'VERB'), ('outlawed', 'VERB'), ('*-6', 'X'), ('.', '.')], [('About', 'ADP'), ('160', 'NUM'), ('workers', 'NOUN'), ('at', 'ADP'), ('a', 'DET'), ('factory', 'NOUN'), ('that', 'DET'), ('*T*-8', 'X'), ('made', 'VERB'), ('paper', 'NOUN'), ('for', 'ADP'), ('the', 'DET'), ('Kent', 'NOUN'), ('filters', 'NOUN'), ('were', 'VERB'), ('exposed', 'VERB'), ('*-7', 'X'), ('to', 'PRT'), ('asbestos', 'NOUN'), ('in', 'ADP'), ('the', 'DET'), ('1950s', 'NUM'), ('.', '.')], [('Areas', 'NOUN'), ('of', 'ADP'), ('the', 'DET'), ('factory', 'NOUN'), ('*ICH*-2', 'X'), ('were', 'VERB'), ('particularly', 'ADV'), ('dusty', 'ADJ'), ('where', 'ADV'), ('the', 'DET'), ('crocidolite', 'NOUN'), ('was', 'VERB'), ('used', 'VERB'), ('*-8', 'X'), ('*T*-1', 'X'), ('.', '.')], [('Workers', 'NOUN'), ('dumped', 'VERB'), ('large', 'ADJ'), ('burlap', 'NOUN'), ('sacks', 'NOUN'), ('of', 'ADP'), ('the', 'DET'), ('imported', 'VERB'), ('material', 'NOUN'), ('into', 'ADP'), ('a', 'DET'), ('huge', 'ADJ'), ('bin', 'NOUN'), (',', '.'), ('poured', 'VERB'), ('in', 'PRT'), ('cotton', 'NOUN'), ('and', 'CONJ'), ('acetate', 'NOUN'), ('fibers', 'NOUN'), ('and', 'CONJ'), ('mechanically', 'ADV'), ('mixed', 'VERB'), ('the', 'DET'), ('dry', 'ADJ'), ('fibers', 'NOUN'), ('in', 'ADP'), ('a', 'DET'), ('process', 'NOUN'), ('used', 'VERB'), ('*', 'X'), ('*', 'X'), ('to', 'PRT'), ('make', 'VERB'), ('filters', 'NOUN'), ('.', '.')], [('Workers', 'NOUN'), ('described', 'VERB'), ('``', '.'), ('clouds', 'NOUN'), ('of', 'ADP'), ('blue', 'ADJ'), ('dust', 'NOUN'), (\"''\", '.'), ('that', 'DET'), ('*T*-1', 'X'), ('hung', 'VERB'), ('over', 'ADP'), ('parts', 'NOUN'), ('of', 'ADP'), ('the', 'DET'), ('factory', 'NOUN'), (',', '.'), ('even', 'ADV'), ('though', 'ADP'), ('exhaust', 'NOUN'), ('fans', 'NOUN'), ('ventilated', 'VERB'), ('the', 'DET'), ('area', 'NOUN'), ('.', '.')], [('``', '.'), ('There', 'DET'), (\"'s\", 'VERB'), ('no', 'DET'), ('question', 'NOUN'), ('that', 'ADP'), ('some', 'DET'), ('of', 'ADP'), ('those', 'DET'), ('workers', 'NOUN'), ('and', 'CONJ'), ('managers', 'NOUN'), ('contracted', 'VERB'), ('asbestos-related', 'ADJ'), ('diseases', 'NOUN'), (',', '.'), (\"''\", '.'), ('said', 'VERB'), ('*T*-1', 'X'), ('Darrell', 'NOUN'), ('Phillips', 'NOUN'), (',', '.'), ('vice', 'NOUN'), ('president', 'NOUN'), ('of', 'ADP'), ('human', 'ADJ'), ('resources', 'NOUN'), ('for', 'ADP'), ('Hollingsworth', 'NOUN'), ('&', 'CONJ'), ('Vose', 'NOUN'), ('.', '.')], [('``', '.'), ('But', 'CONJ'), ('you', 'PRON'), ('have', 'VERB'), ('*-1', 'X'), ('to', 'PRT'), ('recognize', 'VERB'), ('that', 'ADP'), ('these', 'DET'), ('events', 'NOUN'), ('took', 'VERB'), ('place', 'NOUN'), ('35', 'NUM'), ('years', 'NOUN'), ('ago', 'ADP'), ('.', '.')], [('It', 'PRON'), ('has', 'VERB'), ('no', 'DET'), ('bearing', 'NOUN'), ('on', 'ADP'), ('our', 'PRON'), ('work', 'NOUN'), ('force', 'NOUN'), ('today', 'NOUN'), ('.', '.')], [('Yields', 'NOUN'), ('on', 'ADP'), ('money-market', 'ADJ'), ('mutual', 'ADJ'), ('funds', 'NOUN'), ('continued', 'VERB'), ('*-1', 'X'), ('to', 'PRT'), ('slide', 'VERB'), (',', '.'), ('amid', 'ADP'), ('signs', 'NOUN'), ('that', 'ADP'), ('portfolio', 'NOUN'), ('managers', 'NOUN'), ('expect', 'VERB'), ('further', 'ADJ'), ('declines', 'NOUN'), ('in', 'ADP'), ('interest', 'NOUN'), ('rates', 'NOUN'), ('.', '.')], [('The', 'DET'), ('average', 'ADJ'), ('seven-day', 'ADJ'), ('compound', 'NOUN'), ('yield', 'NOUN'), ('of', 'ADP'), ('the', 'DET'), ('400', 'NUM'), ('taxable', 'ADJ'), ('funds', 'NOUN'), ('tracked', 'VERB'), ('*', 'X'), ('by', 'ADP'), ('IBC', 'NOUN'), (\"'s\", 'PRT'), ('Money', 'NOUN'), ('Fund', 'NOUN'), ('Report', 'NOUN'), ('eased', 'VERB'), ('a', 'DET'), ('fraction', 'NOUN'), ('of', 'ADP'), ('a', 'DET'), ('percentage', 'NOUN'), ('point', 'NOUN'), ('to', 'PRT'), ('8.45', 'NUM'), ('%', 'NOUN'), ('from', 'ADP'), ('8.47', 'NUM'), ('%', 'NOUN'), ('for', 'ADP'), ('the', 'DET'), ('week', 'NOUN'), ('ended', 'VERB'), ('Tuesday', 'NOUN'), ('.', '.')], [('Compound', 'NOUN'), ('yields', 'NOUN'), ('assume', 'VERB'), ('reinvestment', 'NOUN'), ('of', 'ADP'), ('dividends', 'NOUN'), ('and', 'CONJ'), ('that', 'ADP'), ('the', 'DET'), ('current', 'ADJ'), ('yield', 'NOUN'), ('continues', 'VERB'), ('for', 'ADP'), ('a', 'DET'), ('year', 'NOUN'), ('.', '.')], [('Average', 'ADJ'), ('maturity', 'NOUN'), ('of', 'ADP'), ('the', 'DET'), ('funds', 'NOUN'), (\"'\", 'PRT'), ('investments', 'NOUN'), ('lengthened', 'VERB'), ('by', 'ADP'), ('a', 'DET'), ('day', 'NOUN'), ('to', 'PRT'), ('41', 'NUM'), ('days', 'NOUN'), (',', '.'), ('the', 'DET'), ('longest', 'ADJ'), ('since', 'ADP'), ('early', 'ADJ'), ('August', 'NOUN'), (',', '.'), ('according', 'VERB'), ('to', 'PRT'), ('Donoghue', 'NOUN'), (\"'s\", 'PRT'), ('.', '.')], [('Longer', 'ADJ'), ('maturities', 'NOUN'), ('are', 'VERB'), ('thought', 'VERB'), ('*-1', 'X'), ('to', 'PRT'), ('indicate', 'VERB'), ('declining', 'VERB'), ('interest', 'NOUN'), ('rates', 'NOUN'), ('because', 'ADP'), ('they', 'PRON'), ('permit', 'VERB'), ('portfolio', 'NOUN'), ('managers', 'NOUN'), ('to', 'PRT'), ('retain', 'VERB'), ('relatively', 'ADV'), ('higher', 'ADJ'), ('rates', 'NOUN'), ('for', 'ADP'), ('a', 'DET'), ('longer', 'ADJ'), ('period', 'NOUN'), ('.', '.')], [('Shorter', 'ADJ'), ('maturities', 'NOUN'), ('are', 'VERB'), ('considered', 'VERB'), ('*-9', 'X'), ('a', 'DET'), ('sign', 'NOUN'), ('of', 'ADP'), ('rising', 'VERB'), ('rates', 'NOUN'), ('because', 'ADP'), ('portfolio', 'NOUN'), ('managers', 'NOUN'), ('can', 'VERB'), ('capture', 'VERB'), ('higher', 'ADJ'), ('rates', 'NOUN'), ('sooner', 'ADV'), ('.', '.')], [('The', 'DET'), ('average', 'ADJ'), ('maturity', 'NOUN'), ('for', 'ADP'), ('funds', 'NOUN'), ('open', 'ADJ'), ('only', 'ADV'), ('to', 'PRT'), ('institutions', 'NOUN'), (',', '.'), ('considered', 'VERB'), ('by', 'ADP'), ('some', 'DET'), ('*', 'X'), ('to', 'PRT'), ('be', 'VERB'), ('a', 'DET'), ('stronger', 'ADJ'), ('indicator', 'NOUN'), ('because', 'ADP'), ('those', 'DET'), ('managers', 'NOUN'), ('watch', 'VERB'), ('the', 'DET'), ('market', 'NOUN'), ('closely', 'ADV'), (',', '.'), ('reached', 'VERB'), ('a', 'DET'), ('high', 'ADJ'), ('point', 'NOUN'), ('for', 'ADP'), ('the', 'DET'), ('year', 'NOUN'), ('--', '.'), ('33', 'NUM'), ('days', 'NOUN'), ('.', '.')]]\n"
     ]
    }
   ],
   "source": [
    "# first few tagged sentences\n",
    "print(nltk_data[:40])"
   ]
  },
  {
   "cell_type": "markdown",
   "metadata": {},
   "source": [
    "### Build the vanilla Viterbi based POS tagger"
   ]
  },
  {
   "cell_type": "code",
   "execution_count": 551,
   "metadata": {},
   "outputs": [
    {
     "name": "stdout",
     "output_type": "stream",
     "text": [
      "2739\n",
      "1175\n",
      "[[('Packages', 'NOUN'), ('encourage', 'VERB'), ('loyalty', 'NOUN'), ('by', 'ADP'), ('*-1', 'X'), ('rewarding', 'VERB'), ('customers', 'NOUN'), ('for', 'ADP'), ('*', 'X'), ('doing', 'VERB'), ('the', 'DET'), ('bulk', 'NOUN'), ('of', 'ADP'), ('their', 'PRON'), ('banking', 'NOUN'), ('in', 'ADP'), ('one', 'NUM'), ('place', 'NOUN'), ('.', '.')], [('Here', 'ADV'), ('are', 'VERB'), ('*T*-1', 'X'), ('price', 'NOUN'), ('trends', 'NOUN'), ('on', 'ADP'), ('the', 'DET'), ('world', 'NOUN'), (\"'s\", 'PRT'), ('major', 'ADJ'), ('stock', 'NOUN'), ('markets', 'NOUN'), (',', '.'), ('as', 'ADP'), ('*', 'X'), ('calculated', 'VERB'), ('*-2', 'X'), ('by', 'ADP'), ('Morgan', 'NOUN'), ('Stanley', 'NOUN'), ('Capital', 'NOUN'), ('International', 'NOUN'), ('Perspective', 'NOUN'), (',', '.'), ('Geneva', 'NOUN'), ('.', '.')], [('Pan', 'NOUN'), ('Am', 'VERB'), ('has', 'VERB'), ('subpoenaed', 'VERB'), ('several', 'ADJ'), ('government', 'NOUN'), ('agencies', 'NOUN'), (',', '.'), ('including', 'VERB'), ('the', 'DET'), ('CIA', 'NOUN'), ('and', 'CONJ'), ('FBI', 'NOUN'), (',', '.'), ('*', 'X'), ('to', 'PRT'), ('determine', 'VERB'), ('whether', 'ADP'), ('they', 'PRON'), ('were', 'VERB'), ('warned', 'VERB'), ('*-1', 'X'), ('that', 'ADP'), ('a', 'DET'), ('bomb', 'NOUN'), ('had', 'VERB'), ('been', 'VERB'), ('planted', 'VERB'), ('*-2', 'X'), ('aboard', 'ADP'), ('a', 'DET'), ('jet', 'NOUN'), ('that', 'DET'), ('*T*-3', 'X'), ('exploded', 'VERB'), ('over', 'ADP'), ('Scotland', 'NOUN'), ('last', 'ADJ'), ('December', 'NOUN'), (',', '.'), ('*-4', 'X'), ('killing', 'VERB'), ('270', 'NUM'), ('people', 'NOUN'), ('.', '.')], [('In', 'ADP'), ('his', 'PRON'), ('talks', 'NOUN'), (',', '.'), ('the', 'DET'), ('former', 'ADJ'), ('president', 'NOUN'), ('urged', 'VERB'), ('China', 'NOUN'), (\"'s\", 'PRT'), ('leaders', 'NOUN'), ('*-1', 'X'), ('to', 'PRT'), ('acknowledge', 'VERB'), ('that', 'DET'), ('their', 'PRON'), ('nation', 'NOUN'), ('is', 'VERB'), ('part', 'NOUN'), ('of', 'ADP'), ('the', 'DET'), ('world', 'NOUN'), ('community', 'NOUN'), ('and', 'CONJ'), ('welcome', 'VERB'), ('the', 'DET'), ('infusion', 'NOUN'), ('of', 'ADP'), ('outside', 'ADJ'), ('contacts', 'NOUN'), ('and', 'CONJ'), ('ideas', 'NOUN'), ('.', '.')], [('A', 'DET'), ('look', 'NOUN'), ('at', 'ADP'), ('a', 'DET'), ('Thursday', 'NOUN'), ('night', 'NOUN'), ('practice', 'NOUN'), ('at', 'ADP'), ('St.', 'NOUN'), ('Mary', 'NOUN'), ('Abbot', 'NOUN'), ('church', 'NOUN'), ('in', 'ADP'), ('the', 'DET'), ('Kensington', 'NOUN'), ('district', 'NOUN'), ('of', 'ADP'), ('London', 'NOUN'), ('gives', 'VERB'), ('an', 'DET'), ('idea', 'NOUN'), ('of', 'ADP'), ('the', 'DET'), ('work', 'NOUN'), ('involved', 'VERB'), ('*', 'X'), ('.', '.')], [('The', 'DET'), ('form', 'NOUN'), ('asks', 'VERB'), ('for', 'ADP'), ('such', 'ADJ'), ('details', 'NOUN'), ('as', 'ADP'), ('the', 'DET'), ('client', 'NOUN'), (\"'s\", 'PRT'), ('name', 'NOUN'), (',', '.'), ('Social', 'NOUN'), ('Security', 'NOUN'), ('number', 'NOUN'), (',', '.'), ('passport', 'NOUN'), ('number', 'NOUN'), ('and', 'CONJ'), ('details', 'NOUN'), ('about', 'ADP'), ('the', 'DET'), ('services', 'NOUN'), ('provided', 'VERB'), ('*', 'X'), ('for', 'ADP'), ('the', 'DET'), ('payment', 'NOUN'), ('.', '.')], [('RMS', 'NOUN'), ('International', 'NOUN'), ('Inc.', 'NOUN'), (',', '.'), ('Hasbrouk', 'NOUN'), ('Heights', 'NOUN'), (',', '.'), ('N.J.', 'NOUN'), (',', '.'), ('*-1', 'X'), ('facing', 'VERB'), ('a', 'DET'), ('cash-flow', 'ADJ'), ('squeeze', 'NOUN'), (',', '.'), ('said', 'VERB'), ('0', 'X'), ('it', 'PRON'), ('is', 'VERB'), ('seeking', 'VERB'), ('other', 'ADJ'), ('financing', 'VERB'), ('sources', 'NOUN'), ('and', 'CONJ'), ('waivers', 'NOUN'), ('from', 'ADP'), ('debenture', 'NOUN'), ('holders', 'NOUN'), ('.', '.')], [('The', 'DET'), ('monthly', 'ADJ'), ('sales', 'NOUN'), ('have', 'VERB'), ('been', 'VERB'), ('setting', 'VERB'), ('records', 'NOUN'), ('every', 'DET'), ('month', 'NOUN'), ('since', 'ADP'), ('March', 'NOUN'), ('.', '.')], [('Her', 'PRON'), ('story', 'NOUN'), ('is', 'VERB'), ('partly', 'ADV'), ('one', 'NOUN'), ('of', 'ADP'), ('personal', 'ADJ'), ('downfall', 'NOUN'), ('.', '.')], [('b', 'X'), ('-', '.'), ('Current', 'ADJ'), ('annual', 'ADJ'), ('yield', 'NOUN'), ('.', '.')], [('In', 'ADP'), ('Chile', 'NOUN'), (',', '.'), ('workers', 'NOUN'), ('at', 'ADP'), ('two', 'NUM'), ('copper', 'NOUN'), ('mines', 'NOUN'), (',', '.'), ('Los', 'NOUN'), ('Bronces', 'NOUN'), ('and', 'CONJ'), ('El', 'NOUN'), ('Soldado', 'NOUN'), (',', '.'), ('which', 'DET'), ('*T*-1', 'X'), ('belong', 'VERB'), ('to', 'PRT'), ('the', 'DET'), ('Exxon-owned', 'ADJ'), ('Minera', 'NOUN'), ('Disputada', 'NOUN'), (',', '.'), ('yesterday', 'NOUN'), ('voted', 'VERB'), ('*-2', 'X'), ('to', 'PRT'), ('begin', 'VERB'), ('a', 'DET'), ('full', 'ADJ'), ('strike', 'NOUN'), ('tomorrow', 'NOUN'), (',', '.'), ('an', 'DET'), ('analyst', 'NOUN'), ('said', 'VERB'), ('0', 'X'), ('*T*-3', 'X'), ('.', '.')], [('Even', 'ADV'), ('with', 'ADP'), ('mutual', 'ADJ'), ('funds', 'NOUN'), (',', '.'), ('the', 'DET'), ('little', 'ADJ'), ('investor', 'NOUN'), ('continues', 'VERB'), ('*-1', 'X'), ('to', 'PRT'), ('tolerate', 'VERB'), ('high', 'ADJ'), ('fees', 'NOUN'), (',', '.'), ('high', 'ADJ'), ('commissions', 'NOUN'), ('and', 'CONJ'), ('poor', 'ADJ'), ('performance', 'NOUN'), (',', '.'), ('while', 'ADP'), ('index-fund', 'NOUN'), ('managers', 'NOUN'), ('slowly', 'ADV'), ('amass', 'VERB'), ('a', 'DET'), ('better', 'ADJ'), ('record', 'NOUN'), ('with', 'ADP'), ('lower', 'ADJ'), ('fees', 'NOUN'), (',', '.'), ('lower', 'ADJ'), ('commissions', 'NOUN'), ('and', 'CONJ'), ('less', 'ADJ'), ('risk', 'NOUN'), ('.', '.')], [('By', 'ADP'), ('1987', 'NUM'), (',', '.'), ('then-Speaker', 'ADJ'), ('Jim', 'NOUN'), ('Wright', 'NOUN'), ('was', 'VERB'), ('discussing', 'VERB'), ('arms', 'NOUN'), ('control', 'NOUN'), ('in', 'ADP'), ('Moscow', 'NOUN'), ('with', 'ADP'), ('Mikhail', 'NOUN'), ('Gorbachev', 'NOUN'), ('and', 'CONJ'), ('then', 'ADV'), ('attempting', 'VERB'), ('*-1', 'X'), ('to', 'PRT'), ('direct', 'VERB'), ('the', 'DET'), ('president', 'NOUN'), (',', '.'), ('through', 'ADP'), ('an', 'DET'), ('appropriations', 'NOUN'), ('rider', 'NOUN'), (',', '.'), ('*-2', 'X'), ('to', 'PRT'), ('treat', 'VERB'), ('the', 'DET'), ('Soviets', 'NOUN'), ('as', 'ADP'), ('though', 'ADP'), ('the', 'DET'), ('Senate', 'NOUN'), ('had', 'VERB'), ('ratified', 'VERB'), ('SALT', 'NOUN'), ('II', 'NOUN'), ('.', '.')], [('``', '.'), ('It', 'PRON'), ('is', 'VERB'), ('going', 'VERB'), ('*-1', 'X'), ('to', 'PRT'), ('be', 'VERB'), ('real', 'ADV'), ('tight', 'ADJ'), ('.', '.'), (\"''\", '.')], [('They', 'PRON'), ('are', 'VERB'), ('barking', 'VERB'), ('up', 'ADP'), ('the', 'DET'), ('wrong', 'ADJ'), ('tree', 'NOUN'), (',', '.'), ('because', 'ADP'), ('it', 'PRON'), ('*EXP*-1', 'X'), ('is', 'VERB'), ('basically', 'ADV'), ('their', 'PRON'), ('fault', 'NOUN'), ('0', 'X'), ('they', 'PRON'), ('ca', 'VERB'), (\"n't\", 'ADV'), ('attract', 'VERB'), ('new', 'ADJ'), ('employees', 'NOUN'), ('.', '.')], [('And', 'CONJ'), ('some', 'DET'), ('investors', 'NOUN'), ('fault', 'VERB'), ('Mr.', 'NOUN'), ('Spiegel', 'NOUN'), (\"'s\", 'PRT'), ('life', 'NOUN'), ('style', 'NOUN'), (';', '.'), ('he', 'PRON'), ('earns', 'VERB'), ('millions', 'NOUN'), ('of', 'ADP'), ('dollars', 'NOUN'), ('a', 'DET'), ('year', 'NOUN'), ('and', 'CONJ'), ('flies', 'VERB'), ('around', 'ADP'), ('in', 'ADP'), ('Columbia', 'NOUN'), (\"'s\", 'PRT'), ('jet', 'NOUN'), ('planes', 'NOUN'), ('.', '.')], [('``', '.'), ('So', 'ADP'), ('the', 'DET'), ('focus', 'NOUN'), ('turned', 'VERB'), ('to', 'PRT'), ('other', 'ADJ'), ('fixed-income', 'ADJ'), ('markets', 'NOUN'), (',', '.'), ('corporate', 'ADJ'), ('and', 'CONJ'), ('mortgages', 'NOUN'), ('in', 'ADP'), ('particular', 'ADJ'), (',', '.'), (\"''\", '.'), ('she', 'PRON'), ('said', 'VERB'), ('*T*-1', 'X'), ('.', '.')], [('If', 'ADP'), ('a', 'DET'), ('competitor', 'NOUN'), ('enters', 'VERB'), ('the', 'DET'), ('game', 'NOUN'), (',', '.'), ('for', 'ADP'), ('example', 'NOUN'), (',', '.'), ('Mr.', 'NOUN'), ('Hahn', 'NOUN'), ('could', 'VERB'), ('face', 'VERB'), ('the', 'DET'), ('dilemma', 'NOUN'), ('of', 'ADP'), ('*', 'X'), ('paying', 'VERB'), ('a', 'DET'), ('premium', 'NOUN'), ('for', 'ADP'), ('Nekoosa', 'NOUN'), ('or', 'CONJ'), ('seeing', 'VERB'), ('the', 'DET'), ('company', 'NOUN'), ('fall', 'NOUN'), ('into', 'ADP'), ('the', 'DET'), ('arms', 'NOUN'), ('of', 'ADP'), ('a', 'DET'), ('rival', 'NOUN'), ('.', '.')], [('Mr.', 'NOUN'), ('Gillespie', 'NOUN'), ('at', 'ADP'), ('Viacom', 'NOUN'), ('says', 'VERB'), ('0', 'X'), ('the', 'DET'), ('ratings', 'NOUN'), ('are', 'VERB'), ('rising', 'VERB'), ('.', '.')], [('While', 'ADP'), ('Mrs.', 'NOUN'), ('Ward', 'NOUN'), ('fired', 'VERB'), ('and', 'CONJ'), ('restructured', 'VERB'), ('staff', 'NOUN'), ('and', 'CONJ'), ('struggled', 'VERB'), ('*-1', 'X'), ('to', 'PRT'), ('improve', 'VERB'), ('curriculum', 'NOUN'), (',', '.'), ('Mrs.', 'NOUN'), ('Yeargin', 'NOUN'), ('worked', 'VERB'), ('14-hour', 'ADJ'), ('days', 'NOUN'), ('and', 'CONJ'), ('fast', 'ADV'), ('became', 'VERB'), ('a', 'DET'), ('student', 'NOUN'), ('favorite', 'ADJ'), ('.', '.')], [('Wall', 'NOUN'), ('Street', 'NOUN'), (\"'s\", 'PRT'), ('New', 'NOUN'), ('Guard', 'NOUN'), ('is', 'VERB'), (\"n't\", 'ADV'), ('likely', 'ADJ'), ('*-1', 'X'), ('to', 'PRT'), ('take', 'VERB'), ('all', 'DET'), ('this', 'DET'), ('*-2', 'X'), ('lying', 'VERB'), ('down', 'ADP'), ('for', 'ADP'), ('long', 'ADV'), (',', '.'), ('however', 'ADV'), ('.', '.')], [('Mortgage-Backed', 'NOUN'), ('Issues', 'NOUN')], [('Bonds', 'NOUN'), ('due', 'ADJ'), ('in', 'ADP'), ('2005', 'NUM'), ('have', 'VERB'), ('a', 'DET'), ('7', 'NUM'), ('1\\\\/2', 'NUM'), ('%', 'NOUN'), ('coupon', 'NOUN'), ('and', 'CONJ'), ('are', 'VERB'), ('priced', 'VERB'), ('*-1', 'X'), ('at', 'ADP'), ('par', 'NOUN'), ('.', '.')], [('From', 'ADP'), ('an', 'DET'), ('advertising', 'NOUN'), ('standpoint', 'NOUN'), (',', '.'), ('the', 'DET'), ('problem', 'NOUN'), ('is', 'VERB'), ('0', 'X'), ('these', 'DET'), ('offenders', 'NOUN'), ('are', 'VERB'), ('likely', 'ADJ'), ('*-1', 'X'), ('to', 'PRT'), ('be', 'VERB'), ('some', 'DET'), ('of', 'ADP'), ('the', 'DET'), ('same', 'ADJ'), ('folks', 'NOUN'), ('that', 'DET'), ('*T*-153', 'X'), ('are', 'VERB'), ('major', 'ADJ'), ('magazine', 'NOUN'), ('advertisers', 'NOUN'), ('these', 'DET'), ('days', 'NOUN'), ('.', '.')], [('Mr.', 'NOUN'), ('Sherwood', 'NOUN'), ('said', 'VERB'), ('0', 'X'), ('reaction', 'NOUN'), ('to', 'PRT'), ('Sea', 'NOUN'), ('Containers', 'NOUN'), (\"'\", 'PRT'), ('proposal', 'NOUN'), ('has', 'VERB'), ('been', 'VERB'), ('``', '.'), ('very', 'ADV'), ('positive', 'ADJ'), ('.', '.'), (\"''\", '.')], [('A', 'DET'), ('planned', 'VERB'), ('third', 'ADJ'), ('ship', 'NOUN'), ('still', 'ADV'), ('may', 'VERB'), ('be', 'VERB'), ('built', 'VERB'), ('*-1', 'X'), ('in', 'ADP'), ('the', 'DET'), ('Finnish', 'ADJ'), ('shipyard', 'NOUN'), (',', '.'), ('or', 'CONJ'), ('may', 'VERB'), ('be', 'VERB'), ('built', 'VERB'), ('*-1', 'X'), ('elsewhere', 'ADV'), (',', '.'), ('Carnival', 'NOUN'), ('said', 'VERB'), ('0', 'X'), ('*T*-2', 'X'), ('.', '.')], [('The', 'DET'), ('art', 'NOUN'), ('of', 'ADP'), ('change-ringing', 'NOUN'), ('is', 'VERB'), ('peculiar', 'ADJ'), ('to', 'PRT'), ('the', 'DET'), ('English', 'NOUN'), (',', '.'), ('and', 'CONJ'), (',', '.'), ('like', 'ADP'), ('most', 'ADJ'), ('English', 'ADJ'), ('peculiarities', 'NOUN'), (',', '.'), ('unintelligible', 'ADJ'), ('to', 'PRT'), ('the', 'DET'), ('rest', 'NOUN'), ('of', 'ADP'), ('the', 'DET'), ('world', 'NOUN'), ('.', '.')], [('Who', 'PRON'), ('*T*-1', 'X'), ('knows', 'VERB'), ('what', 'PRON'), ('*T*-2', 'X'), ('will', 'VERB'), ('happen', 'VERB'), ('down', 'ADP'), ('the', 'DET'), ('road', 'NOUN'), (',', '.'), ('in', 'ADP'), ('three', 'NUM'), ('to', 'PRT'), ('six', 'NUM'), ('months', 'NOUN'), (',', '.'), ('if', 'ADP'), ('foreign', 'ADJ'), ('investment', 'NOUN'), ('starts', 'VERB'), ('*-3', 'X'), ('to', 'PRT'), ('erode', 'VERB'), ('?', '.'), (\"''\", '.')], [('The', 'DET'), ('Treasury', 'NOUN'), ('said', 'VERB'), ('0', 'X'), ('the', 'DET'), ('U.S.', 'NOUN'), ('will', 'VERB'), ('default', 'VERB'), ('on', 'ADP'), ('Nov.', 'NOUN'), ('9', 'NUM'), ('if', 'ADP'), ('Congress', 'NOUN'), ('does', 'VERB'), (\"n't\", 'ADV'), ('act', 'VERB'), ('by', 'ADP'), ('then', 'ADV'), ('.', '.')], [('While', 'ADP'), ('U.S.', 'NOUN'), ('officials', 'NOUN'), ('voice', 'VERB'), ('optimism', 'NOUN'), ('about', 'ADP'), ('Japan', 'NOUN'), (\"'s\", 'PRT'), ('enlarged', 'ADJ'), ('role', 'NOUN'), ('in', 'ADP'), ('Asia', 'NOUN'), (',', '.'), ('they', 'PRON'), ('also', 'ADV'), ('convey', 'VERB'), ('an', 'DET'), ('undertone', 'NOUN'), ('of', 'ADP'), ('caution', 'NOUN'), ('.', '.')], [('With', 'ADP'), ('lipsticks', 'NOUN'), (',', '.'), ('liners', 'NOUN'), (',', '.'), ('lotions', 'NOUN'), ('and', 'CONJ'), ('creams', 'NOUN'), (',', '.'), ('There', 'DET'), ('are', 'VERB'), ('still', 'ADV'), ('beauty', 'NOUN'), ('plans', 'NOUN'), ('left', 'VERB'), ('0', 'X'), ('*', 'X'), ('to', 'PRT'), ('tackle', 'VERB'), ('*T*-1', 'X'), (':', '.'), ('But', 'CONJ'), ('as', 'ADP'), ('the', 'DET'), ('years', 'NOUN'), ('go', 'VERB'), ('by', 'ADP'), (',', '.'), ('it', 'PRON'), ('seems', 'VERB'), ('That', 'ADP'), ('before', 'ADP'), ('I', 'PRON'), ('paint', 'VERB'), (',', '.'), ('I', 'PRON'), ('should', 'VERB'), ('spackle', 'VERB'), ('.', '.')], [('He', 'PRON'), ('said', 'VERB'), ('0', 'X'), ('Mexico', 'NOUN'), ('could', 'VERB'), ('be', 'VERB'), ('one', 'NUM'), ('of', 'ADP'), ('the', 'DET'), ('next', 'ADJ'), ('countries', 'NOUN'), ('0', 'X'), ('*T*-1', 'X'), ('to', 'PRT'), ('be', 'VERB'), ('removed', 'VERB'), ('*-2', 'X'), ('from', 'ADP'), ('the', 'DET'), ('priority', 'NOUN'), ('list', 'NOUN'), ('because', 'ADP'), ('of', 'ADP'), ('its', 'PRON'), ('efforts', 'NOUN'), ('*', 'X'), ('to', 'PRT'), ('craft', 'VERB'), ('a', 'DET'), ('new', 'ADJ'), ('patent', 'NOUN'), ('law', 'NOUN'), ('.', '.')], [('The', 'DET'), ('average', 'ADJ'), ('number', 'NOUN'), ('of', 'ADP'), ('FT-SE', 'NOUN'), ('option', 'NOUN'), ('contracts', 'NOUN'), ('traded', 'VERB'), ('*', 'X'), ('on', 'ADP'), ('the', 'DET'), ('London', 'NOUN'), ('exchange', 'NOUN'), ('has', 'VERB'), ('surged', 'VERB'), ('nearly', 'ADV'), ('tenfold', 'ADV'), ('since', 'ADP'), ('the', 'DET'), ('contract', 'NOUN'), (\"'s\", 'PRT'), ('launch', 'NOUN'), ('in', 'ADP'), ('1984', 'NUM'), ('.', '.')], [('The', 'DET'), ('magazine', 'NOUN'), ('will', 'VERB'), ('reward', 'VERB'), ('with', 'ADP'), ('``', '.'), ('page', 'NOUN'), ('bonuses', 'NOUN'), (\"''\", '.'), ('advertisers', 'NOUN'), ('who', 'PRON'), ('in', 'ADP'), ('1990', 'NUM'), ('*T*-1', 'X'), ('meet', 'VERB'), ('or', 'CONJ'), ('exceed', 'VERB'), ('their', 'PRON'), ('1989', 'NUM'), ('spending', 'NOUN'), (',', '.'), ('as', 'ADV'), ('long', 'ADV'), ('as', 'ADP'), ('they', 'PRON'), ('spent', 'VERB'), ('$', '.'), ('325,000', 'NUM'), ('*U*', 'X'), ('in', 'ADP'), ('1989', 'NUM'), ('and', 'CONJ'), ('$', '.'), ('340,000', 'NUM'), ('*U*', 'X'), ('in', 'ADP'), ('1990', 'NUM'), ('.', '.')], [('Reames', 'NOUN'), (',', '.'), ('a', 'DET'), ('maker', 'NOUN'), ('and', 'CONJ'), ('marketer', 'NOUN'), ('of', 'ADP'), ('frozen', 'VERB'), ('noodles', 'NOUN'), ('and', 'CONJ'), ('pre-cooked', 'ADJ'), ('pasta', 'NOUN'), ('based', 'VERB'), ('*', 'X'), ('in', 'ADP'), ('Clive', 'NOUN'), (',', '.'), ('Iowa', 'NOUN'), (',', '.'), ('has', 'VERB'), ('annual', 'ADJ'), ('sales', 'NOUN'), ('of', 'ADP'), ('about', 'ADV'), ('$', '.'), ('11', 'NUM'), ('million', 'NUM'), ('*U*', 'X'), (',', '.'), ('Lancaster', 'NOUN'), ('said', 'VERB'), ('0', 'X'), ('*T*-1', 'X'), ('.', '.')], [('Mrs.', 'NOUN'), ('Yeargin', 'NOUN'), (\"'s\", 'PRT'), ('extra', 'ADJ'), ('work', 'NOUN'), ('was', 'VERB'), ('also', 'ADV'), ('helping', 'VERB'), ('her', 'PRON'), ('earn', 'VERB'), ('points', 'NOUN'), ('in', 'ADP'), ('the', 'DET'), ('state', 'NOUN'), (\"'s\", 'PRT'), ('incentive-bonus', 'NOUN'), ('program', 'NOUN'), ('.', '.')], [('*-1', 'X'), ('Taking', 'VERB'), ('a', 'DET'), ('cue', 'NOUN'), ('from', 'ADP'), ('California', 'NOUN'), (',', '.'), ('more', 'ADJ'), ('politicians', 'NOUN'), ('will', 'VERB'), ('launch', 'VERB'), ('their', 'PRON'), ('campaigns', 'NOUN'), ('by', 'ADP'), ('*-1', 'X'), ('backing', 'VERB'), ('initiatives', 'NOUN'), (',', '.'), ('says', 'VERB'), ('0', 'X'), ('*T*-2', 'X'), ('David', 'NOUN'), ('Magleby', 'NOUN'), ('of', 'ADP'), ('Brigham', 'NOUN'), ('Young', 'NOUN'), ('University', 'NOUN'), ('.', '.')], [('``', '.'), ('No', 'DET'), ('one', 'NOUN'), ('wants', 'VERB'), ('the', 'DET'), ('U.S.', 'NOUN'), ('to', 'PRT'), ('pick', 'VERB'), ('up', 'PRT'), ('its', 'PRON'), ('marbles', 'NOUN'), ('and', 'CONJ'), ('go', 'VERB'), ('home', 'ADV'), (',', '.'), (\"''\", '.'), ('Mr.', 'NOUN'), ('Hormats', 'NOUN'), ('says', 'VERB'), ('*T*-1', 'X'), ('.', '.')], [('Freeport-McMoRan', 'NOUN'), (',', '.'), ('the', 'DET'), ('parent', 'NOUN'), ('company', 'NOUN'), (',', '.'), ('holds', 'VERB'), ('roughly', 'ADV'), ('80', 'NUM'), ('%', 'NOUN'), ('of', 'ADP'), ('the', 'DET'), ('units', 'NOUN'), ('outstanding', 'ADJ'), ('.', '.')], [('But', 'CONJ'), ('in', 'ADP'), ('London', 'NOUN'), ('and', 'CONJ'), ('Tokyo', 'NOUN'), (',', '.'), ('where', 'ADV'), ('computer-driven', 'ADJ'), ('trading', 'NOUN'), ('now', 'ADV'), ('plays', 'VERB'), ('a', 'DET'), ('small', 'ADJ'), ('but', 'CONJ'), ('growing', 'VERB'), ('role', 'NOUN'), ('*T*-1', 'X'), (',', '.'), ('traders', 'NOUN'), ('say', 'VERB'), ('0', 'X'), ('a', 'DET'), ('number', 'NOUN'), ('of', 'ADP'), ('hurdles', 'NOUN'), ('loom', 'VERB'), ('.', '.')]]\n"
     ]
    }
   ],
   "source": [
    "# Splitting into train and test\n",
    "random.seed(1234)\n",
    "train_set, test_set = train_test_split(nltk_data,test_size=0.3)\n",
    "\n",
    "print(len(train_set))\n",
    "print(len(test_set))\n",
    "print(train_set[:40])"
   ]
  },
  {
   "cell_type": "code",
   "execution_count": 552,
   "metadata": {},
   "outputs": [
    {
     "data": {
      "text/plain": [
       "70826"
      ]
     },
     "execution_count": 552,
     "metadata": {},
     "output_type": "execute_result"
    }
   ],
   "source": [
    "# Getting list of tagged words\n",
    "train_tagged_words = [tup for sent in train_set for tup in sent]\n",
    "len(train_tagged_words)"
   ]
  },
  {
   "cell_type": "code",
   "execution_count": 553,
   "metadata": {},
   "outputs": [
    {
     "data": {
      "text/plain": [
       "['Packages',\n",
       " 'encourage',\n",
       " 'loyalty',\n",
       " 'by',\n",
       " '*-1',\n",
       " 'rewarding',\n",
       " 'customers',\n",
       " 'for',\n",
       " '*',\n",
       " 'doing']"
      ]
     },
     "execution_count": 553,
     "metadata": {},
     "output_type": "execute_result"
    }
   ],
   "source": [
    "# tokens \n",
    "tokens = [pair[0] for pair in train_tagged_words]\n",
    "tokens[:10]"
   ]
  },
  {
   "cell_type": "code",
   "execution_count": 554,
   "metadata": {},
   "outputs": [
    {
     "name": "stdout",
     "output_type": "stream",
     "text": [
      "10317\n"
     ]
    }
   ],
   "source": [
    "# vocabulary\n",
    "V = set(tokens)\n",
    "print(len(V))"
   ]
  },
  {
   "cell_type": "code",
   "execution_count": 555,
   "metadata": {},
   "outputs": [
    {
     "data": {
      "text/plain": [
       "12"
      ]
     },
     "execution_count": 555,
     "metadata": {},
     "output_type": "execute_result"
    }
   ],
   "source": [
    "# number of tags\n",
    "T = set([pair[1] for pair in train_tagged_words])\n",
    "len(T)"
   ]
  },
  {
   "cell_type": "code",
   "execution_count": 556,
   "metadata": {},
   "outputs": [
    {
     "name": "stdout",
     "output_type": "stream",
     "text": [
      "{'NUM', 'ADP', 'VERB', 'NOUN', 'PRON', 'CONJ', 'DET', 'X', 'ADV', '.', 'ADJ', 'PRT'}\n"
     ]
    }
   ],
   "source": [
    "print(T)"
   ]
  },
  {
   "cell_type": "markdown",
   "metadata": {},
   "source": [
    "### Emission Probabilities"
   ]
  },
  {
   "cell_type": "code",
   "execution_count": 557,
   "metadata": {},
   "outputs": [],
   "source": [
    "# computing P(w/t) and storing in T x V matrix\n",
    "t = len(T)\n",
    "v = len(V)\n",
    "w_given_t = np.zeros((t, v))"
   ]
  },
  {
   "cell_type": "code",
   "execution_count": 558,
   "metadata": {},
   "outputs": [],
   "source": [
    "# compute word given tag: Emission Probability\n",
    "def word_given_tag(word, tag, train_bag = train_tagged_words):\n",
    "    tag_list = [pair for pair in train_bag if pair[1]==tag]\n",
    "    count_tag = len(tag_list)\n",
    "    w_given_tag_list = [pair[0] for pair in tag_list if pair[0]==word]\n",
    "    count_w_given_tag = len(w_given_tag_list)\n",
    "    \n",
    "    return (count_w_given_tag, count_tag)"
   ]
  },
  {
   "cell_type": "code",
   "execution_count": 559,
   "metadata": {},
   "outputs": [
    {
     "name": "stdout",
     "output_type": "stream",
     "text": [
      "\n",
      " large\n",
      "(0, 0)\n",
      "(0, 0)\n",
      "(0, 0) \n",
      "\n",
      "\n",
      " will\n",
      "(0, 0)\n",
      "(0, 0)\n",
      "(0, 0)\n",
      "\n",
      " book\n",
      "(0, 0)\n",
      "(0, 0)\n"
     ]
    }
   ],
   "source": [
    "# examples\n",
    "\n",
    "# large\n",
    "print(\"\\n\", \"large\")\n",
    "print(word_given_tag('large', 'JJ'))\n",
    "print(word_given_tag('large', 'VB'))\n",
    "print(word_given_tag('large', 'NN'), \"\\n\")\n",
    "\n",
    "# will\n",
    "print(\"\\n\", \"will\")\n",
    "print(word_given_tag('will', 'MD'))\n",
    "print(word_given_tag('will', 'NN'))\n",
    "print(word_given_tag('will', 'VB'))\n",
    "\n",
    "# book\n",
    "print(\"\\n\", \"book\")\n",
    "print(word_given_tag('book', 'NN'))\n",
    "print(word_given_tag('book', 'VB'))"
   ]
  },
  {
   "cell_type": "markdown",
   "metadata": {},
   "source": [
    "### Transition Probabilities"
   ]
  },
  {
   "cell_type": "code",
   "execution_count": 560,
   "metadata": {},
   "outputs": [],
   "source": [
    "# compute tag given tag: tag2(t2) given tag1 (t1), i.e. Transition Probability\n",
    "\n",
    "def t2_given_t1(t2, t1, train_bag = train_tagged_words):\n",
    "    tags = [pair[1] for pair in train_bag]\n",
    "    count_t1 = len([t for t in tags if t==t1])\n",
    "    count_t2_t1 = 0\n",
    "    for index in range(len(tags)-1):\n",
    "        if tags[index]==t1 and tags[index+1] == t2:\n",
    "            count_t2_t1 += 1\n",
    "    return (count_t2_t1, count_t1)"
   ]
  },
  {
   "cell_type": "code",
   "execution_count": 561,
   "metadata": {},
   "outputs": [
    {
     "name": "stdout",
     "output_type": "stream",
     "text": [
      "(0, 0)\n",
      "(0, 0)\n",
      "(0, 0)\n",
      "(0, 0)\n",
      "(0, 0)\n",
      "(0, 0)\n",
      "(0, 0)\n"
     ]
    }
   ],
   "source": [
    "# examples\n",
    "print(t2_given_t1(t2='NNP', t1='JJ'))\n",
    "print(t2_given_t1('NN', 'JJ'))\n",
    "print(t2_given_t1('NN', 'DT'))\n",
    "print(t2_given_t1('NNP', 'VB'))\n",
    "print(t2_given_t1(',', 'NNP'))\n",
    "print(t2_given_t1('PRP', 'PRP'))\n",
    "print(t2_given_t1('VBG', 'NNP'))"
   ]
  },
  {
   "cell_type": "code",
   "execution_count": 562,
   "metadata": {},
   "outputs": [
    {
     "name": "stdout",
     "output_type": "stream",
     "text": [
      "(0, 8215)\n",
      "(0, 8215)\n",
      "(0, 8215)\n",
      "(0, 8215)\n"
     ]
    }
   ],
   "source": [
    "#Please note P(tag|start) is same as P(tag|'.')\n",
    "print(t2_given_t1('DT', '.'))\n",
    "print(t2_given_t1('VBG', '.'))\n",
    "print(t2_given_t1('NN', '.'))\n",
    "print(t2_given_t1('NNP', '.'))"
   ]
  },
  {
   "cell_type": "code",
   "execution_count": 563,
   "metadata": {},
   "outputs": [],
   "source": [
    "# creating t x t transition matrix of tags\n",
    "# each column is t2, each row is t1\n",
    "# thus M(i, j) represents P(tj given ti)\n",
    "\n",
    "tags_matrix = np.zeros((len(T), len(T)), dtype='float32')\n",
    "for i, t1 in enumerate(list(T)):\n",
    "    for j, t2 in enumerate(list(T)): \n",
    "        tags_matrix[i, j] = t2_given_t1(t2, t1)[0]/t2_given_t1(t2, t1)[1]"
   ]
  },
  {
   "cell_type": "code",
   "execution_count": 564,
   "metadata": {},
   "outputs": [
    {
     "data": {
      "text/plain": [
       "array([[1.87257186e-01, 3.61305363e-02, 1.74825173e-02, 3.56254846e-01,\n",
       "        1.16550119e-03, 1.32090133e-02, 3.10800318e-03, 2.01243207e-01,\n",
       "        3.49650346e-03, 1.17715620e-01, 3.45765352e-02, 2.83605289e-02],\n",
       "       [6.63411841e-02, 1.68006886e-02, 9.62090772e-03, 3.25244099e-01,\n",
       "        6.86387122e-02, 1.00516947e-03, 3.21654230e-01, 3.27398032e-02,\n",
       "        1.47903506e-02, 3.93452048e-02, 1.02240093e-01, 1.57955196e-03],\n",
       "       [2.32163686e-02, 9.02151987e-02, 1.67285070e-01, 1.11735396e-01,\n",
       "        3.39234620e-02, 5.72458375e-03, 1.34103686e-01, 2.17216149e-01,\n",
       "        8.34305063e-02, 3.57256457e-02, 6.56206906e-02, 3.18032429e-02],\n",
       "       [9.86261014e-03, 1.77526981e-01, 1.45731106e-01, 2.65701681e-01,\n",
       "        4.26889118e-03, 4.31795865e-02, 1.38370954e-02, 2.97350343e-02,\n",
       "        1.59960743e-02, 2.38616288e-01, 1.20706577e-02, 4.34739925e-02],\n",
       "       [6.33245381e-03, 2.11081803e-02, 4.90237474e-01, 2.07915574e-01,\n",
       "        7.91556761e-03, 5.27704507e-03, 8.44327174e-03, 9.39313993e-02,\n",
       "        3.16622704e-02, 4.06332463e-02, 7.33509213e-02, 1.31926117e-02],\n",
       "       [4.29638848e-02, 4.79452051e-02, 1.53798252e-01, 3.54296386e-01,\n",
       "        5.79078458e-02, 6.22664986e-04, 1.20174348e-01, 9.96263977e-03,\n",
       "        6.10211715e-02, 3.36239114e-02, 1.13325030e-01, 4.35865484e-03],\n",
       "       [2.23418139e-02, 9.62165650e-03, 4.06066552e-02, 6.32420063e-01,\n",
       "        3.09849973e-03, 4.89236787e-04, 5.05544664e-03, 4.72928882e-02,\n",
       "        1.32093932e-02, 1.81017611e-02, 2.07436398e-01, 3.26157868e-04],\n",
       "       [3.45572364e-03, 1.47948161e-01, 2.03023762e-01, 6.41468689e-02,\n",
       "        5.89632839e-02, 1.05831530e-02, 5.26997857e-02, 7.75377974e-02,\n",
       "        2.46220306e-02, 1.56803459e-01, 1.74946003e-02, 1.82721376e-01],\n",
       "       [2.99642216e-02, 1.20751344e-01, 3.28264773e-01, 3.44364941e-02,\n",
       "        1.34168155e-02, 7.15563493e-03, 7.28980303e-02, 2.14669053e-02,\n",
       "        8.00536647e-02, 1.38193205e-01, 1.41323790e-01, 1.20751346e-02],\n",
       "       [8.15581232e-02, 9.14181396e-02, 8.92270207e-02, 2.20815584e-01,\n",
       "        6.48813173e-02, 5.83079718e-02, 1.74680457e-01, 2.58064512e-02,\n",
       "        5.36822900e-02, 9.37309787e-02, 4.38222773e-02, 1.94765674e-03],\n",
       "       [2.25863587e-02, 7.90522620e-02, 1.15146143e-02, 6.96191311e-01,\n",
       "        8.85739573e-04, 1.50575731e-02, 5.75730717e-03, 2.10363157e-02,\n",
       "        3.98582825e-03, 6.68733418e-02, 6.64304718e-02, 1.06288753e-02],\n",
       "       [6.10244982e-02, 2.04899777e-02, 3.95991087e-01, 2.47216031e-01,\n",
       "        1.78173725e-02, 2.22717156e-03, 1.02004454e-01, 1.38084637e-02,\n",
       "        8.90868623e-03, 3.96436527e-02, 8.90868604e-02, 1.78173720e-03]],\n",
       "      dtype=float32)"
      ]
     },
     "execution_count": 564,
     "metadata": {},
     "output_type": "execute_result"
    }
   ],
   "source": [
    "tags_matrix"
   ]
  },
  {
   "cell_type": "code",
   "execution_count": 565,
   "metadata": {},
   "outputs": [],
   "source": [
    "# convert the matrix to a df for better readability\n",
    "tags_df = pd.DataFrame(tags_matrix, columns = list(T), index=list(T))"
   ]
  },
  {
   "cell_type": "code",
   "execution_count": 566,
   "metadata": {},
   "outputs": [
    {
     "data": {
      "text/html": [
       "<div>\n",
       "<style scoped>\n",
       "    .dataframe tbody tr th:only-of-type {\n",
       "        vertical-align: middle;\n",
       "    }\n",
       "\n",
       "    .dataframe tbody tr th {\n",
       "        vertical-align: top;\n",
       "    }\n",
       "\n",
       "    .dataframe thead th {\n",
       "        text-align: right;\n",
       "    }\n",
       "</style>\n",
       "<table border=\"1\" class=\"dataframe\">\n",
       "  <thead>\n",
       "    <tr style=\"text-align: right;\">\n",
       "      <th></th>\n",
       "      <th>NUM</th>\n",
       "      <th>ADP</th>\n",
       "      <th>VERB</th>\n",
       "      <th>NOUN</th>\n",
       "      <th>PRON</th>\n",
       "      <th>CONJ</th>\n",
       "      <th>DET</th>\n",
       "      <th>X</th>\n",
       "      <th>ADV</th>\n",
       "      <th>.</th>\n",
       "      <th>ADJ</th>\n",
       "      <th>PRT</th>\n",
       "    </tr>\n",
       "  </thead>\n",
       "  <tbody>\n",
       "    <tr>\n",
       "      <th>NUM</th>\n",
       "      <td>0.187257</td>\n",
       "      <td>0.036131</td>\n",
       "      <td>0.017483</td>\n",
       "      <td>0.356255</td>\n",
       "      <td>0.001166</td>\n",
       "      <td>0.013209</td>\n",
       "      <td>0.003108</td>\n",
       "      <td>0.201243</td>\n",
       "      <td>0.003497</td>\n",
       "      <td>0.117716</td>\n",
       "      <td>0.034577</td>\n",
       "      <td>0.028361</td>\n",
       "    </tr>\n",
       "    <tr>\n",
       "      <th>ADP</th>\n",
       "      <td>0.066341</td>\n",
       "      <td>0.016801</td>\n",
       "      <td>0.009621</td>\n",
       "      <td>0.325244</td>\n",
       "      <td>0.068639</td>\n",
       "      <td>0.001005</td>\n",
       "      <td>0.321654</td>\n",
       "      <td>0.032740</td>\n",
       "      <td>0.014790</td>\n",
       "      <td>0.039345</td>\n",
       "      <td>0.102240</td>\n",
       "      <td>0.001580</td>\n",
       "    </tr>\n",
       "    <tr>\n",
       "      <th>VERB</th>\n",
       "      <td>0.023216</td>\n",
       "      <td>0.090215</td>\n",
       "      <td>0.167285</td>\n",
       "      <td>0.111735</td>\n",
       "      <td>0.033923</td>\n",
       "      <td>0.005725</td>\n",
       "      <td>0.134104</td>\n",
       "      <td>0.217216</td>\n",
       "      <td>0.083431</td>\n",
       "      <td>0.035726</td>\n",
       "      <td>0.065621</td>\n",
       "      <td>0.031803</td>\n",
       "    </tr>\n",
       "    <tr>\n",
       "      <th>NOUN</th>\n",
       "      <td>0.009863</td>\n",
       "      <td>0.177527</td>\n",
       "      <td>0.145731</td>\n",
       "      <td>0.265702</td>\n",
       "      <td>0.004269</td>\n",
       "      <td>0.043180</td>\n",
       "      <td>0.013837</td>\n",
       "      <td>0.029735</td>\n",
       "      <td>0.015996</td>\n",
       "      <td>0.238616</td>\n",
       "      <td>0.012071</td>\n",
       "      <td>0.043474</td>\n",
       "    </tr>\n",
       "    <tr>\n",
       "      <th>PRON</th>\n",
       "      <td>0.006332</td>\n",
       "      <td>0.021108</td>\n",
       "      <td>0.490237</td>\n",
       "      <td>0.207916</td>\n",
       "      <td>0.007916</td>\n",
       "      <td>0.005277</td>\n",
       "      <td>0.008443</td>\n",
       "      <td>0.093931</td>\n",
       "      <td>0.031662</td>\n",
       "      <td>0.040633</td>\n",
       "      <td>0.073351</td>\n",
       "      <td>0.013193</td>\n",
       "    </tr>\n",
       "    <tr>\n",
       "      <th>CONJ</th>\n",
       "      <td>0.042964</td>\n",
       "      <td>0.047945</td>\n",
       "      <td>0.153798</td>\n",
       "      <td>0.354296</td>\n",
       "      <td>0.057908</td>\n",
       "      <td>0.000623</td>\n",
       "      <td>0.120174</td>\n",
       "      <td>0.009963</td>\n",
       "      <td>0.061021</td>\n",
       "      <td>0.033624</td>\n",
       "      <td>0.113325</td>\n",
       "      <td>0.004359</td>\n",
       "    </tr>\n",
       "    <tr>\n",
       "      <th>DET</th>\n",
       "      <td>0.022342</td>\n",
       "      <td>0.009622</td>\n",
       "      <td>0.040607</td>\n",
       "      <td>0.632420</td>\n",
       "      <td>0.003098</td>\n",
       "      <td>0.000489</td>\n",
       "      <td>0.005055</td>\n",
       "      <td>0.047293</td>\n",
       "      <td>0.013209</td>\n",
       "      <td>0.018102</td>\n",
       "      <td>0.207436</td>\n",
       "      <td>0.000326</td>\n",
       "    </tr>\n",
       "    <tr>\n",
       "      <th>X</th>\n",
       "      <td>0.003456</td>\n",
       "      <td>0.147948</td>\n",
       "      <td>0.203024</td>\n",
       "      <td>0.064147</td>\n",
       "      <td>0.058963</td>\n",
       "      <td>0.010583</td>\n",
       "      <td>0.052700</td>\n",
       "      <td>0.077538</td>\n",
       "      <td>0.024622</td>\n",
       "      <td>0.156803</td>\n",
       "      <td>0.017495</td>\n",
       "      <td>0.182721</td>\n",
       "    </tr>\n",
       "    <tr>\n",
       "      <th>ADV</th>\n",
       "      <td>0.029964</td>\n",
       "      <td>0.120751</td>\n",
       "      <td>0.328265</td>\n",
       "      <td>0.034436</td>\n",
       "      <td>0.013417</td>\n",
       "      <td>0.007156</td>\n",
       "      <td>0.072898</td>\n",
       "      <td>0.021467</td>\n",
       "      <td>0.080054</td>\n",
       "      <td>0.138193</td>\n",
       "      <td>0.141324</td>\n",
       "      <td>0.012075</td>\n",
       "    </tr>\n",
       "    <tr>\n",
       "      <th>.</th>\n",
       "      <td>0.081558</td>\n",
       "      <td>0.091418</td>\n",
       "      <td>0.089227</td>\n",
       "      <td>0.220816</td>\n",
       "      <td>0.064881</td>\n",
       "      <td>0.058308</td>\n",
       "      <td>0.174680</td>\n",
       "      <td>0.025806</td>\n",
       "      <td>0.053682</td>\n",
       "      <td>0.093731</td>\n",
       "      <td>0.043822</td>\n",
       "      <td>0.001948</td>\n",
       "    </tr>\n",
       "    <tr>\n",
       "      <th>ADJ</th>\n",
       "      <td>0.022586</td>\n",
       "      <td>0.079052</td>\n",
       "      <td>0.011515</td>\n",
       "      <td>0.696191</td>\n",
       "      <td>0.000886</td>\n",
       "      <td>0.015058</td>\n",
       "      <td>0.005757</td>\n",
       "      <td>0.021036</td>\n",
       "      <td>0.003986</td>\n",
       "      <td>0.066873</td>\n",
       "      <td>0.066430</td>\n",
       "      <td>0.010629</td>\n",
       "    </tr>\n",
       "    <tr>\n",
       "      <th>PRT</th>\n",
       "      <td>0.061024</td>\n",
       "      <td>0.020490</td>\n",
       "      <td>0.395991</td>\n",
       "      <td>0.247216</td>\n",
       "      <td>0.017817</td>\n",
       "      <td>0.002227</td>\n",
       "      <td>0.102004</td>\n",
       "      <td>0.013808</td>\n",
       "      <td>0.008909</td>\n",
       "      <td>0.039644</td>\n",
       "      <td>0.089087</td>\n",
       "      <td>0.001782</td>\n",
       "    </tr>\n",
       "  </tbody>\n",
       "</table>\n",
       "</div>"
      ],
      "text/plain": [
       "           NUM       ADP      VERB      NOUN      PRON      CONJ       DET  \\\n",
       "NUM   0.187257  0.036131  0.017483  0.356255  0.001166  0.013209  0.003108   \n",
       "ADP   0.066341  0.016801  0.009621  0.325244  0.068639  0.001005  0.321654   \n",
       "VERB  0.023216  0.090215  0.167285  0.111735  0.033923  0.005725  0.134104   \n",
       "NOUN  0.009863  0.177527  0.145731  0.265702  0.004269  0.043180  0.013837   \n",
       "PRON  0.006332  0.021108  0.490237  0.207916  0.007916  0.005277  0.008443   \n",
       "CONJ  0.042964  0.047945  0.153798  0.354296  0.057908  0.000623  0.120174   \n",
       "DET   0.022342  0.009622  0.040607  0.632420  0.003098  0.000489  0.005055   \n",
       "X     0.003456  0.147948  0.203024  0.064147  0.058963  0.010583  0.052700   \n",
       "ADV   0.029964  0.120751  0.328265  0.034436  0.013417  0.007156  0.072898   \n",
       ".     0.081558  0.091418  0.089227  0.220816  0.064881  0.058308  0.174680   \n",
       "ADJ   0.022586  0.079052  0.011515  0.696191  0.000886  0.015058  0.005757   \n",
       "PRT   0.061024  0.020490  0.395991  0.247216  0.017817  0.002227  0.102004   \n",
       "\n",
       "             X       ADV         .       ADJ       PRT  \n",
       "NUM   0.201243  0.003497  0.117716  0.034577  0.028361  \n",
       "ADP   0.032740  0.014790  0.039345  0.102240  0.001580  \n",
       "VERB  0.217216  0.083431  0.035726  0.065621  0.031803  \n",
       "NOUN  0.029735  0.015996  0.238616  0.012071  0.043474  \n",
       "PRON  0.093931  0.031662  0.040633  0.073351  0.013193  \n",
       "CONJ  0.009963  0.061021  0.033624  0.113325  0.004359  \n",
       "DET   0.047293  0.013209  0.018102  0.207436  0.000326  \n",
       "X     0.077538  0.024622  0.156803  0.017495  0.182721  \n",
       "ADV   0.021467  0.080054  0.138193  0.141324  0.012075  \n",
       ".     0.025806  0.053682  0.093731  0.043822  0.001948  \n",
       "ADJ   0.021036  0.003986  0.066873  0.066430  0.010629  \n",
       "PRT   0.013808  0.008909  0.039644  0.089087  0.001782  "
      ]
     },
     "execution_count": 566,
     "metadata": {},
     "output_type": "execute_result"
    }
   ],
   "source": [
    "tags_df"
   ]
  },
  {
   "cell_type": "code",
   "execution_count": 567,
   "metadata": {},
   "outputs": [
    {
     "data": {
      "text/plain": [
       "NUM     0.081558\n",
       "ADP     0.091418\n",
       "VERB    0.089227\n",
       "NOUN    0.220816\n",
       "PRON    0.064881\n",
       "CONJ    0.058308\n",
       "DET     0.174680\n",
       "X       0.025806\n",
       "ADV     0.053682\n",
       ".       0.093731\n",
       "ADJ     0.043822\n",
       "PRT     0.001948\n",
       "Name: ., dtype: float32"
      ]
     },
     "execution_count": 567,
     "metadata": {},
     "output_type": "execute_result"
    }
   ],
   "source": [
    "tags_df.loc['.', :]"
   ]
  },
  {
   "cell_type": "code",
   "execution_count": 568,
   "metadata": {},
   "outputs": [
    {
     "data": {
      "image/png": "[encoded data removed]",
      "text/plain": [
       "<Figure size 1296x864 with 2 Axes>"
      ]
     },
     "metadata": {
      "needs_background": "light"
     },
     "output_type": "display_data"
    }
   ],
   "source": [
    "# heatmap of tags matrix\n",
    "# T(i, j) means P(tag j given tag i)\n",
    "plt.figure(figsize=(18, 12))\n",
    "sns.heatmap(tags_df)\n",
    "plt.show()"
   ]
  },
  {
   "cell_type": "code",
   "execution_count": 569,
   "metadata": {},
   "outputs": [
    {
     "data": {
      "image/png": "[encoded data removed]",
      "text/plain": [
       "<Figure size 1296x864 with 2 Axes>"
      ]
     },
     "metadata": {
      "needs_background": "light"
     },
     "output_type": "display_data"
    }
   ],
   "source": [
    "# frequent tags\n",
    "# filter the df to get P(t2, t1) > 0.5\n",
    "tags_frequent = tags_df[tags_df>0.4]\n",
    "plt.figure(figsize=(18, 12))\n",
    "sns.heatmap(tags_frequent)\n",
    "plt.show()"
   ]
  },
  {
   "cell_type": "markdown",
   "metadata": {},
   "source": [
    "### Viterbi Algorithm"
   ]
  },
  {
   "cell_type": "code",
   "execution_count": 570,
   "metadata": {},
   "outputs": [
    {
     "data": {
      "text/plain": [
       "70826"
      ]
     },
     "execution_count": 570,
     "metadata": {},
     "output_type": "execute_result"
    }
   ],
   "source": [
    "len(train_tagged_words)"
   ]
  },
  {
   "cell_type": "code",
   "execution_count": 571,
   "metadata": {},
   "outputs": [],
   "source": [
    "# Viterbi Heuristic\n",
    "def Viterbi(words, train_bag = train_tagged_words):\n",
    "    state = []\n",
    "    T = list(set([pair[1] for pair in train_bag]))\n",
    "    \n",
    "    for key, word in enumerate(words):\n",
    "        #initialise list of probability column for a given observation\n",
    "        p = [] \n",
    "        for tag in T:\n",
    "            if key == 0:\n",
    "                transition_p = tags_df.loc['.', tag]\n",
    "            else:\n",
    "                transition_p = tags_df.loc[state[-1], tag]\n",
    "                \n",
    "            # compute emission and state probabilities\n",
    "            emission_p = word_given_tag(words[key], tag)[0]/word_given_tag(words[key], tag)[1]\n",
    "            state_probability = emission_p * transition_p    \n",
    "            p.append(state_probability)\n",
    "            \n",
    "        pmax = max(p)\n",
    "        # getting state for which probability is maximum\n",
    "        state_max = T[p.index(pmax)] \n",
    "        state.append(state_max)\n",
    "    return list(zip(words, state))\n"
   ]
  },
  {
   "cell_type": "markdown",
   "metadata": {},
   "source": [
    "### Evaluating on Test Set"
   ]
  },
  {
   "cell_type": "code",
   "execution_count": 572,
   "metadata": {},
   "outputs": [
    {
     "data": {
      "text/plain": [
       "[[('``', '.'),\n",
       "  ('Nor', 'CONJ'),\n",
       "  ('are', 'VERB'),\n",
       "  ('you', 'PRON'),\n",
       "  ('free', 'ADJ'),\n",
       "  ('*-2', 'X'),\n",
       "  ('to', 'PRT'),\n",
       "  ('reprint', 'VERB'),\n",
       "  ('such', 'ADJ'),\n",
       "  ('material', 'NOUN'),\n",
       "  (',', '.'),\n",
       "  (\"''\", '.'),\n",
       "  ('I', 'PRON'),\n",
       "  ('was', 'VERB'),\n",
       "  ('advised', 'VERB'),\n",
       "  ('*-31', 'X'),\n",
       "  ('*T*-1', 'X'),\n",
       "  ('.', '.')],\n",
       " [('Ad', 'NOUN'), ('Notes', 'NOUN'), ('...', '.'), ('.', '.')],\n",
       " [('The', 'DET'),\n",
       "  ('yield', 'NOUN'),\n",
       "  ('on', 'ADP'),\n",
       "  ('six-month', 'ADJ'),\n",
       "  ('Treasury', 'NOUN'),\n",
       "  ('bills', 'NOUN'),\n",
       "  ('sold', 'VERB'),\n",
       "  ('*', 'X'),\n",
       "  ('at', 'ADP'),\n",
       "  ('Monday', 'NOUN'),\n",
       "  (\"'s\", 'PRT'),\n",
       "  ('auction', 'NOUN'),\n",
       "  (',', '.'),\n",
       "  ('for', 'ADP'),\n",
       "  ('example', 'NOUN'),\n",
       "  (',', '.'),\n",
       "  ('rose', 'VERB'),\n",
       "  ('to', 'PRT'),\n",
       "  ('8.04', 'NUM'),\n",
       "  ('%', 'NOUN'),\n",
       "  ('from', 'ADP'),\n",
       "  ('7.90', 'NUM'),\n",
       "  ('%', 'NOUN'),\n",
       "  ('.', '.')],\n",
       " [('When', 'ADV'),\n",
       "  ('Scoring', 'NOUN'),\n",
       "  ('High', 'NOUN'),\n",
       "  ('first', 'ADV'),\n",
       "  ('came', 'VERB'),\n",
       "  ('out', 'ADV'),\n",
       "  ('in', 'ADP'),\n",
       "  ('1979', 'NUM'),\n",
       "  ('*T*-1', 'X'),\n",
       "  (',', '.'),\n",
       "  ('it', 'PRON'),\n",
       "  ('was', 'VERB'),\n",
       "  ('a', 'DET'),\n",
       "  ('publication', 'NOUN'),\n",
       "  ('of', 'ADP'),\n",
       "  ('Random', 'NOUN'),\n",
       "  ('House', 'NOUN'),\n",
       "  ('.', '.')],\n",
       " [('He', 'PRON'),\n",
       "  ('was', 'VERB'),\n",
       "  ('previously', 'ADV'),\n",
       "  ('vice', 'NOUN'),\n",
       "  ('president', 'NOUN'),\n",
       "  ('.', '.')]]"
      ]
     },
     "execution_count": 572,
     "metadata": {},
     "output_type": "execute_result"
    }
   ],
   "source": [
    "# Running on entire test dataset would take more than 3-4hrs. \n",
    "# Let's test our Viterbi algorithm on a few sample sentences of test dataset\n",
    "\n",
    "random.seed(1234)\n",
    "\n",
    "# choose random 5 sents\n",
    "rndom = [random.randint(1,len(test_set)) for x in range(5)]\n",
    "\n",
    "# list of sents\n",
    "test_run = [test_set[i] for i in rndom]\n",
    "\n",
    "# list of tagged words\n",
    "test_run_base = [tup for sent in test_run for tup in sent]\n",
    "\n",
    "# list of untagged words\n",
    "test_tagged_words = [tup[0] for sent in test_run for tup in sent]\n",
    "test_run"
   ]
  },
  {
   "cell_type": "code",
   "execution_count": 573,
   "metadata": {},
   "outputs": [],
   "source": [
    "# tagging the test data\n",
    "start = time.time()\n",
    "tagged_seq = Viterbi(test_tagged_words)\n",
    "end = time.time()\n",
    "difference = end-start"
   ]
  },
  {
   "cell_type": "code",
   "execution_count": 574,
   "metadata": {},
   "outputs": [
    {
     "name": "stdout",
     "output_type": "stream",
     "text": [
      "Time taken in seconds:  12.839604616165161\n",
      "[('``', '.'), ('Nor', 'NUM'), ('are', 'VERB'), ('you', 'PRON'), ('free', 'ADJ'), ('*-2', 'X'), ('to', 'PRT'), ('reprint', 'NUM'), ('such', 'ADJ'), ('material', 'NOUN'), (',', '.'), (\"''\", '.'), ('I', 'PRON'), ('was', 'VERB'), ('advised', 'NUM'), ('*-31', 'X'), ('*T*-1', 'X'), ('.', '.'), ('Ad', 'NUM'), ('Notes', 'NUM'), ('...', '.'), ('.', '.'), ('The', 'DET'), ('yield', 'NOUN'), ('on', 'ADP'), ('six-month', 'ADJ'), ('Treasury', 'NOUN'), ('bills', 'NOUN'), ('sold', 'VERB'), ('*', 'X'), ('at', 'ADP'), ('Monday', 'NOUN'), (\"'s\", 'PRT'), ('auction', 'NOUN'), (',', '.'), ('for', 'ADP'), ('example', 'NOUN'), (',', '.'), ('rose', 'VERB'), ('to', 'PRT'), ('8.04', 'NUM'), ('%', 'NOUN'), ('from', 'ADP'), ('7.90', 'NUM'), ('%', 'NOUN'), ('.', '.'), ('When', 'ADV'), ('Scoring', 'NOUN'), ('High', 'NOUN'), ('first', 'ADJ'), ('came', 'VERB'), ('out', 'PRT'), ('in', 'ADP'), ('1979', 'NUM'), ('*T*-1', 'X'), (',', '.'), ('it', 'PRON'), ('was', 'VERB'), ('a', 'DET'), ('publication', 'NUM'), ('of', 'ADP'), ('Random', 'NOUN'), ('House', 'NOUN'), ('.', '.'), ('He', 'PRON'), ('was', 'VERB'), ('previously', 'ADV'), ('vice', 'NOUN'), ('president', 'NOUN'), ('.', '.')]\n"
     ]
    }
   ],
   "source": [
    "print(\"Time taken in seconds: \", difference)\n",
    "print(tagged_seq)\n",
    "#print(test_run_base)"
   ]
  },
  {
   "cell_type": "code",
   "execution_count": 575,
   "metadata": {},
   "outputs": [],
   "source": [
    "# accuracy\n",
    "check = [i for i, j in zip(tagged_seq, test_run_base) if i == j] "
   ]
  },
  {
   "cell_type": "code",
   "execution_count": 576,
   "metadata": {},
   "outputs": [],
   "source": [
    "accuracy = len(check)/len(tagged_seq)"
   ]
  },
  {
   "cell_type": "code",
   "execution_count": 577,
   "metadata": {},
   "outputs": [
    {
     "data": {
      "text/plain": [
       "0.8857142857142857"
      ]
     },
     "execution_count": 577,
     "metadata": {},
     "output_type": "execute_result"
    }
   ],
   "source": [
    "accuracy"
   ]
  },
  {
   "cell_type": "code",
   "execution_count": 578,
   "metadata": {},
   "outputs": [],
   "source": [
    "incorrect_tagged_cases = [[test_run_base[i-1],j] for i, j in enumerate(zip(tagged_seq, test_run_base)) if j[0]!=j[1]]"
   ]
  },
  {
   "cell_type": "code",
   "execution_count": 579,
   "metadata": {},
   "outputs": [
    {
     "data": {
      "text/plain": [
       "[[('``', '.'), (('Nor', 'NUM'), ('Nor', 'CONJ'))],\n",
       " [('to', 'PRT'), (('reprint', 'NUM'), ('reprint', 'VERB'))],\n",
       " [('was', 'VERB'), (('advised', 'NUM'), ('advised', 'VERB'))],\n",
       " [('.', '.'), (('Ad', 'NUM'), ('Ad', 'NOUN'))],\n",
       " [('Ad', 'NOUN'), (('Notes', 'NUM'), ('Notes', 'NOUN'))],\n",
       " [('High', 'NOUN'), (('first', 'ADJ'), ('first', 'ADV'))],\n",
       " [('came', 'VERB'), (('out', 'PRT'), ('out', 'ADV'))],\n",
       " [('a', 'DET'), (('publication', 'NUM'), ('publication', 'NOUN'))]]"
      ]
     },
     "execution_count": 579,
     "metadata": {},
     "output_type": "execute_result"
    }
   ],
   "source": [
    "incorrect_tagged_cases"
   ]
  },
  {
   "cell_type": "code",
   "execution_count": 580,
   "metadata": {},
   "outputs": [],
   "source": [
    "## Testing\n",
    "sentence_test = 'Android is a mobile operating system developed by Google. Android has been the best-selling OS worldwide on smartphones since 2011 and on tablets since 2013. Google and Twitter made a deal in 2015 that gave Google access to Twitter''s firehose. Twitter is an online news and social networking service on which users post and interact with messages known as tweets. Before entering politics, Donald Trump was a domineering businessman and a television personality. The 2018 FIFA World Cup is the 21st FIFA World Cup, an international football tournament contested once every four years. This is the first World Cup to be held in Eastern Europe and the 11th time that it has been held in Europe. Show me the cheapest round trips from Dallas to AtlantaI would like to see flights from Denver to Philadelphia. Show me the price of the flights leaving Atlanta at about 3 in the afternoon and arriving in San Francisco. NASA invited social media users to experience the launch of ICESAT-2 Satellite.'\n",
    "words = word_tokenize(sentence_test)\n",
    "\n",
    "start = time.time()\n",
    "tagged_seq = Viterbi(words)\n",
    "end = time.time()\n",
    "difference = end-start"
   ]
  },
  {
   "cell_type": "code",
   "execution_count": 581,
   "metadata": {},
   "outputs": [
    {
     "name": "stdout",
     "output_type": "stream",
     "text": [
      "[('Android', 'NUM'), ('is', 'VERB'), ('a', 'DET'), ('mobile', 'ADJ'), ('operating', 'NOUN'), ('system', 'NOUN'), ('developed', 'VERB'), ('by', 'ADP'), ('Google', 'NUM'), ('.', '.'), ('Android', 'NUM'), ('has', 'VERB'), ('been', 'VERB'), ('the', 'DET'), ('best-selling', 'NUM'), ('OS', 'NUM'), ('worldwide', 'NUM'), ('on', 'ADP'), ('smartphones', 'NUM'), ('since', 'ADP'), ('2011', 'NUM'), ('and', 'CONJ'), ('on', 'ADP'), ('tablets', 'NOUN'), ('since', 'ADP'), ('2013', 'NUM'), ('.', '.'), ('Google', 'NUM'), ('and', 'CONJ'), ('Twitter', 'NUM'), ('made', 'VERB'), ('a', 'DET'), ('deal', 'NOUN'), ('in', 'ADP'), ('2015', 'NUM'), ('that', 'ADP'), ('gave', 'VERB'), ('Google', 'NUM'), ('access', 'NOUN'), ('to', 'PRT'), ('Twitters', 'NUM'), ('firehose', 'NUM'), ('.', '.'), ('Twitter', 'NUM'), ('is', 'VERB'), ('an', 'DET'), ('online', 'NUM'), ('news', 'NOUN'), ('and', 'CONJ'), ('social', 'ADJ'), ('networking', 'NOUN'), ('service', 'NOUN'), ('on', 'ADP'), ('which', 'DET'), ('users', 'NOUN'), ('post', 'VERB'), ('and', 'CONJ'), ('interact', 'NUM'), ('with', 'ADP'), ('messages', 'NUM'), ('known', 'ADJ'), ('as', 'ADP'), ('tweets', 'NUM'), ('.', '.'), ('Before', 'ADP'), ('entering', 'VERB'), ('politics', 'NOUN'), (',', '.'), ('Donald', 'NOUN'), ('Trump', 'NOUN'), ('was', 'VERB'), ('a', 'DET'), ('domineering', 'NUM'), ('businessman', 'NOUN'), ('and', 'CONJ'), ('a', 'DET'), ('television', 'NOUN'), ('personality', 'NUM'), ('.', '.'), ('The', 'DET'), ('2018', 'NUM'), ('FIFA', 'NUM'), ('World', 'NOUN'), ('Cup', 'NUM'), ('is', 'VERB'), ('the', 'DET'), ('21st', 'NUM'), ('FIFA', 'NUM'), ('World', 'NOUN'), ('Cup', 'NUM'), (',', '.'), ('an', 'DET'), ('international', 'ADJ'), ('football', 'NOUN'), ('tournament', 'NUM'), ('contested', 'NUM'), ('once', 'ADV'), ('every', 'DET'), ('four', 'NUM'), ('years', 'NOUN'), ('.', '.'), ('This', 'DET'), ('is', 'VERB'), ('the', 'DET'), ('first', 'ADJ'), ('World', 'NOUN'), ('Cup', 'NUM'), ('to', 'PRT'), ('be', 'VERB'), ('held', 'VERB'), ('in', 'ADP'), ('Eastern', 'NOUN'), ('Europe', 'NOUN'), ('and', 'CONJ'), ('the', 'DET'), ('11th', 'ADJ'), ('time', 'NOUN'), ('that', 'ADP'), ('it', 'PRON'), ('has', 'VERB'), ('been', 'VERB'), ('held', 'VERB'), ('in', 'ADP'), ('Europe', 'NOUN'), ('.', '.'), ('Show', 'NOUN'), ('me', 'PRON'), ('the', 'DET'), ('cheapest', 'ADJ'), ('round', 'NOUN'), ('trips', 'NUM'), ('from', 'ADP'), ('Dallas', 'NOUN'), ('to', 'PRT'), ('AtlantaI', 'NUM'), ('would', 'VERB'), ('like', 'ADP'), ('to', 'PRT'), ('see', 'VERB'), ('flights', 'NOUN'), ('from', 'ADP'), ('Denver', 'NOUN'), ('to', 'PRT'), ('Philadelphia', 'NOUN'), ('.', '.'), ('Show', 'NOUN'), ('me', 'PRON'), ('the', 'DET'), ('price', 'NOUN'), ('of', 'ADP'), ('the', 'DET'), ('flights', 'NOUN'), ('leaving', 'VERB'), ('Atlanta', 'NOUN'), ('at', 'ADP'), ('about', 'ADP'), ('3', 'NUM'), ('in', 'ADP'), ('the', 'DET'), ('afternoon', 'NOUN'), ('and', 'CONJ'), ('arriving', 'NUM'), ('in', 'ADP'), ('San', 'NOUN'), ('Francisco', 'NOUN'), ('.', '.'), ('NASA', 'NUM'), ('invited', 'NUM'), ('social', 'ADJ'), ('media', 'NOUN'), ('users', 'NOUN'), ('to', 'PRT'), ('experience', 'NOUN'), ('the', 'DET'), ('launch', 'NOUN'), ('of', 'ADP'), ('ICESAT-2', 'NUM'), ('Satellite', 'NUM'), ('.', '.')]\n",
      "34.3147656917572\n"
     ]
    }
   ],
   "source": [
    "print(tagged_seq)\n",
    "print(difference)"
   ]
  },
  {
   "cell_type": "markdown",
   "metadata": {},
   "source": [
    "### Solve the problem of unknown words"
   ]
  },
  {
   "cell_type": "markdown",
   "metadata": {},
   "source": [
    "#### Which is the most frequent tag in the corpus"
   ]
  },
  {
   "cell_type": "code",
   "execution_count": 582,
   "metadata": {},
   "outputs": [
    {
     "data": {
      "text/plain": [
       "Counter({'NOUN': 20380,\n",
       "         'VERB': 9433,\n",
       "         'ADP': 6964,\n",
       "         'X': 4630,\n",
       "         'DET': 6132,\n",
       "         'PRON': 1895,\n",
       "         'NUM': 2574,\n",
       "         '.': 8215,\n",
       "         'ADV': 2236,\n",
       "         'PRT': 2245,\n",
       "         'ADJ': 4516,\n",
       "         'CONJ': 1606})"
      ]
     },
     "execution_count": 582,
     "metadata": {},
     "output_type": "execute_result"
    }
   ],
   "source": [
    "# Which is the most frequent tag in the corpus\n",
    "# to count the frequency of elements in a list, the Counter() class from collections\n",
    "# module is very useful, as shown below\n",
    "tags = [pair[1] for pair in train_tagged_words]\n",
    "\n",
    "from collections import Counter\n",
    "tag_counts = Counter(tags)\n",
    "tag_counts"
   ]
  },
  {
   "cell_type": "markdown",
   "metadata": {},
   "source": [
    "#### Modification1 : Tags of all unknown words are replaced by Noun (Noun beign the most common tag)"
   ]
  },
  {
   "cell_type": "code",
   "execution_count": 583,
   "metadata": {},
   "outputs": [],
   "source": [
    "# Viterbi Heuristic - Modifcation1\n",
    "def Viterbi_modify1(test_words, train_bag = train_tagged_words):\n",
    "    tagged_seq = Viterbi(test_words)\n",
    "    V = list(set([pair[0] for pair in train_bag]))\n",
    "    words = [pair[0] for pair in tagged_seq]\n",
    "    viterbi_tags = [pair[1] for pair in tagged_seq]\n",
    "    \n",
    "    for key, word in enumerate(words):\n",
    "        if word not in V :\n",
    "            viterbi_tags[key] = 'NOUN'\n",
    "                \n",
    "           \n",
    "    return list(zip(words, viterbi_tags))"
   ]
  },
  {
   "cell_type": "code",
   "execution_count": 584,
   "metadata": {},
   "outputs": [],
   "source": [
    "test_Viterbimodify1 = Viterbi_modify1(test_tagged_words)"
   ]
  },
  {
   "cell_type": "code",
   "execution_count": 585,
   "metadata": {},
   "outputs": [
    {
     "name": "stdout",
     "output_type": "stream",
     "text": [
      "[('``', '.'), ('Nor', 'NOUN'), ('are', 'VERB'), ('you', 'PRON'), ('free', 'ADJ'), ('*-2', 'X'), ('to', 'PRT'), ('reprint', 'NOUN'), ('such', 'ADJ'), ('material', 'NOUN'), (',', '.'), (\"''\", '.'), ('I', 'PRON'), ('was', 'VERB'), ('advised', 'NOUN'), ('*-31', 'X'), ('*T*-1', 'X'), ('.', '.'), ('Ad', 'NOUN'), ('Notes', 'NOUN'), ('...', '.'), ('.', '.'), ('The', 'DET'), ('yield', 'NOUN'), ('on', 'ADP'), ('six-month', 'ADJ'), ('Treasury', 'NOUN'), ('bills', 'NOUN'), ('sold', 'VERB'), ('*', 'X'), ('at', 'ADP'), ('Monday', 'NOUN'), (\"'s\", 'PRT'), ('auction', 'NOUN'), (',', '.'), ('for', 'ADP'), ('example', 'NOUN'), (',', '.'), ('rose', 'VERB'), ('to', 'PRT'), ('8.04', 'NUM'), ('%', 'NOUN'), ('from', 'ADP'), ('7.90', 'NUM'), ('%', 'NOUN'), ('.', '.'), ('When', 'ADV'), ('Scoring', 'NOUN'), ('High', 'NOUN'), ('first', 'ADJ'), ('came', 'VERB'), ('out', 'PRT'), ('in', 'ADP'), ('1979', 'NUM'), ('*T*-1', 'X'), (',', '.'), ('it', 'PRON'), ('was', 'VERB'), ('a', 'DET'), ('publication', 'NOUN'), ('of', 'ADP'), ('Random', 'NOUN'), ('House', 'NOUN'), ('.', '.'), ('He', 'PRON'), ('was', 'VERB'), ('previously', 'ADV'), ('vice', 'NOUN'), ('president', 'NOUN'), ('.', '.')]\n"
     ]
    }
   ],
   "source": [
    "print(test_Viterbimodify1)"
   ]
  },
  {
   "cell_type": "code",
   "execution_count": 586,
   "metadata": {},
   "outputs": [],
   "source": [
    "# accuracy\n",
    "check_modf1 = [i for i, j in zip(test_Viterbimodify1, test_run_base) if i == j] "
   ]
  },
  {
   "cell_type": "code",
   "execution_count": 587,
   "metadata": {},
   "outputs": [],
   "source": [
    "accuracy_modf1 = len(check_modf1)/len(test_Viterbimodify1)"
   ]
  },
  {
   "cell_type": "code",
   "execution_count": 588,
   "metadata": {},
   "outputs": [
    {
     "data": {
      "text/plain": [
       "0.9285714285714286"
      ]
     },
     "execution_count": 588,
     "metadata": {},
     "output_type": "execute_result"
    }
   ],
   "source": [
    "accuracy_modf1"
   ]
  },
  {
   "cell_type": "code",
   "execution_count": 589,
   "metadata": {},
   "outputs": [],
   "source": [
    "incorrect_tagged_cases = [[test_run_base[i-1],j] for i, j in enumerate(zip(test_Viterbimodify1, test_run_base)) if j[0]!=j[1]]"
   ]
  },
  {
   "cell_type": "code",
   "execution_count": 590,
   "metadata": {},
   "outputs": [
    {
     "data": {
      "text/plain": [
       "[[('``', '.'), (('Nor', 'NOUN'), ('Nor', 'CONJ'))],\n",
       " [('to', 'PRT'), (('reprint', 'NOUN'), ('reprint', 'VERB'))],\n",
       " [('was', 'VERB'), (('advised', 'NOUN'), ('advised', 'VERB'))],\n",
       " [('High', 'NOUN'), (('first', 'ADJ'), ('first', 'ADV'))],\n",
       " [('came', 'VERB'), (('out', 'PRT'), ('out', 'ADV'))]]"
      ]
     },
     "execution_count": 590,
     "metadata": {},
     "output_type": "execute_result"
    }
   ],
   "source": [
    "incorrect_tagged_cases"
   ]
  },
  {
   "cell_type": "code",
   "execution_count": 591,
   "metadata": {},
   "outputs": [],
   "source": [
    "#tagging the test sentence\n",
    "testSentence_Viterbimodify1 = Viterbi_modify1(words)"
   ]
  },
  {
   "cell_type": "code",
   "execution_count": 592,
   "metadata": {},
   "outputs": [
    {
     "data": {
      "text/plain": [
       "[('Android', 'NOUN'),\n",
       " ('is', 'VERB'),\n",
       " ('a', 'DET'),\n",
       " ('mobile', 'ADJ'),\n",
       " ('operating', 'NOUN'),\n",
       " ('system', 'NOUN'),\n",
       " ('developed', 'VERB'),\n",
       " ('by', 'ADP'),\n",
       " ('Google', 'NOUN'),\n",
       " ('.', '.'),\n",
       " ('Android', 'NOUN'),\n",
       " ('has', 'VERB'),\n",
       " ('been', 'VERB'),\n",
       " ('the', 'DET'),\n",
       " ('best-selling', 'NOUN'),\n",
       " ('OS', 'NOUN'),\n",
       " ('worldwide', 'NOUN'),\n",
       " ('on', 'ADP'),\n",
       " ('smartphones', 'NOUN'),\n",
       " ('since', 'ADP'),\n",
       " ('2011', 'NOUN'),\n",
       " ('and', 'CONJ'),\n",
       " ('on', 'ADP'),\n",
       " ('tablets', 'NOUN'),\n",
       " ('since', 'ADP'),\n",
       " ('2013', 'NOUN'),\n",
       " ('.', '.'),\n",
       " ('Google', 'NOUN'),\n",
       " ('and', 'CONJ'),\n",
       " ('Twitter', 'NOUN'),\n",
       " ('made', 'VERB'),\n",
       " ('a', 'DET'),\n",
       " ('deal', 'NOUN'),\n",
       " ('in', 'ADP'),\n",
       " ('2015', 'NOUN'),\n",
       " ('that', 'ADP'),\n",
       " ('gave', 'VERB'),\n",
       " ('Google', 'NOUN'),\n",
       " ('access', 'NOUN'),\n",
       " ('to', 'PRT'),\n",
       " ('Twitters', 'NOUN'),\n",
       " ('firehose', 'NOUN'),\n",
       " ('.', '.'),\n",
       " ('Twitter', 'NOUN'),\n",
       " ('is', 'VERB'),\n",
       " ('an', 'DET'),\n",
       " ('online', 'NOUN'),\n",
       " ('news', 'NOUN'),\n",
       " ('and', 'CONJ'),\n",
       " ('social', 'ADJ'),\n",
       " ('networking', 'NOUN'),\n",
       " ('service', 'NOUN'),\n",
       " ('on', 'ADP'),\n",
       " ('which', 'DET'),\n",
       " ('users', 'NOUN'),\n",
       " ('post', 'VERB'),\n",
       " ('and', 'CONJ'),\n",
       " ('interact', 'NOUN'),\n",
       " ('with', 'ADP'),\n",
       " ('messages', 'NOUN'),\n",
       " ('known', 'ADJ'),\n",
       " ('as', 'ADP'),\n",
       " ('tweets', 'NOUN'),\n",
       " ('.', '.'),\n",
       " ('Before', 'ADP'),\n",
       " ('entering', 'VERB'),\n",
       " ('politics', 'NOUN'),\n",
       " (',', '.'),\n",
       " ('Donald', 'NOUN'),\n",
       " ('Trump', 'NOUN'),\n",
       " ('was', 'VERB'),\n",
       " ('a', 'DET'),\n",
       " ('domineering', 'NOUN'),\n",
       " ('businessman', 'NOUN'),\n",
       " ('and', 'CONJ'),\n",
       " ('a', 'DET'),\n",
       " ('television', 'NOUN'),\n",
       " ('personality', 'NOUN'),\n",
       " ('.', '.'),\n",
       " ('The', 'DET'),\n",
       " ('2018', 'NOUN'),\n",
       " ('FIFA', 'NOUN'),\n",
       " ('World', 'NOUN'),\n",
       " ('Cup', 'NOUN'),\n",
       " ('is', 'VERB'),\n",
       " ('the', 'DET'),\n",
       " ('21st', 'NOUN'),\n",
       " ('FIFA', 'NOUN'),\n",
       " ('World', 'NOUN'),\n",
       " ('Cup', 'NOUN'),\n",
       " (',', '.'),\n",
       " ('an', 'DET'),\n",
       " ('international', 'ADJ'),\n",
       " ('football', 'NOUN'),\n",
       " ('tournament', 'NOUN'),\n",
       " ('contested', 'NOUN'),\n",
       " ('once', 'ADV'),\n",
       " ('every', 'DET'),\n",
       " ('four', 'NUM'),\n",
       " ('years', 'NOUN'),\n",
       " ('.', '.'),\n",
       " ('This', 'DET'),\n",
       " ('is', 'VERB'),\n",
       " ('the', 'DET'),\n",
       " ('first', 'ADJ'),\n",
       " ('World', 'NOUN'),\n",
       " ('Cup', 'NOUN'),\n",
       " ('to', 'PRT'),\n",
       " ('be', 'VERB'),\n",
       " ('held', 'VERB'),\n",
       " ('in', 'ADP'),\n",
       " ('Eastern', 'NOUN'),\n",
       " ('Europe', 'NOUN'),\n",
       " ('and', 'CONJ'),\n",
       " ('the', 'DET'),\n",
       " ('11th', 'ADJ'),\n",
       " ('time', 'NOUN'),\n",
       " ('that', 'ADP'),\n",
       " ('it', 'PRON'),\n",
       " ('has', 'VERB'),\n",
       " ('been', 'VERB'),\n",
       " ('held', 'VERB'),\n",
       " ('in', 'ADP'),\n",
       " ('Europe', 'NOUN'),\n",
       " ('.', '.'),\n",
       " ('Show', 'NOUN'),\n",
       " ('me', 'PRON'),\n",
       " ('the', 'DET'),\n",
       " ('cheapest', 'ADJ'),\n",
       " ('round', 'NOUN'),\n",
       " ('trips', 'NOUN'),\n",
       " ('from', 'ADP'),\n",
       " ('Dallas', 'NOUN'),\n",
       " ('to', 'PRT'),\n",
       " ('AtlantaI', 'NOUN'),\n",
       " ('would', 'VERB'),\n",
       " ('like', 'ADP'),\n",
       " ('to', 'PRT'),\n",
       " ('see', 'VERB'),\n",
       " ('flights', 'NOUN'),\n",
       " ('from', 'ADP'),\n",
       " ('Denver', 'NOUN'),\n",
       " ('to', 'PRT'),\n",
       " ('Philadelphia', 'NOUN'),\n",
       " ('.', '.'),\n",
       " ('Show', 'NOUN'),\n",
       " ('me', 'PRON'),\n",
       " ('the', 'DET'),\n",
       " ('price', 'NOUN'),\n",
       " ('of', 'ADP'),\n",
       " ('the', 'DET'),\n",
       " ('flights', 'NOUN'),\n",
       " ('leaving', 'VERB'),\n",
       " ('Atlanta', 'NOUN'),\n",
       " ('at', 'ADP'),\n",
       " ('about', 'ADP'),\n",
       " ('3', 'NUM'),\n",
       " ('in', 'ADP'),\n",
       " ('the', 'DET'),\n",
       " ('afternoon', 'NOUN'),\n",
       " ('and', 'CONJ'),\n",
       " ('arriving', 'NOUN'),\n",
       " ('in', 'ADP'),\n",
       " ('San', 'NOUN'),\n",
       " ('Francisco', 'NOUN'),\n",
       " ('.', '.'),\n",
       " ('NASA', 'NOUN'),\n",
       " ('invited', 'NOUN'),\n",
       " ('social', 'ADJ'),\n",
       " ('media', 'NOUN'),\n",
       " ('users', 'NOUN'),\n",
       " ('to', 'PRT'),\n",
       " ('experience', 'NOUN'),\n",
       " ('the', 'DET'),\n",
       " ('launch', 'NOUN'),\n",
       " ('of', 'ADP'),\n",
       " ('ICESAT-2', 'NOUN'),\n",
       " ('Satellite', 'NOUN'),\n",
       " ('.', '.')]"
      ]
     },
     "execution_count": 592,
     "metadata": {},
     "output_type": "execute_result"
    }
   ],
   "source": [
    "testSentence_Viterbimodify1"
   ]
  },
  {
   "cell_type": "markdown",
   "metadata": {},
   "source": [
    "#### Modification2 : Rule based modifications for unknown words"
   ]
  },
  {
   "cell_type": "code",
   "execution_count": 593,
   "metadata": {},
   "outputs": [],
   "source": [
    "## Viterbi Modification -2: Rule based\n",
    "## 1. all unknown words with first letter capital/ all letters capitals are tagged as Noun\n",
    "## 2. numbers are tagged as NUM\n",
    "## 3. words ending with '-ous' as ADJ\n",
    "## 4. and rest as Noun\n",
    "\n",
    "def Viterbi_modf2(test_words, train_bag = train_tagged_words):\n",
    "    tagged_seq = Viterbi(test_words)\n",
    "    V = list(set([pair[0] for pair in train_bag]))\n",
    "    \n",
    "    words = [pair[0] for pair in tagged_seq]\n",
    "    Viterbi_tags = [pair[1] for pair in tagged_seq]\n",
    "    \n",
    "    for key, word in enumerate(words):\n",
    "        if word not in V:\n",
    "            ## word ending with '-ous', assign a ADJ\n",
    "            if word[-3:] == 'ous':\n",
    "                Viterbi_tags[key] = 'ADJ'\n",
    "            \n",
    "            ## if word is number i.e. a digit or a set of all digits, except probably the last term like the % symbol \n",
    "            # and so on, we assign it as a NUM\n",
    "            elif (word.isdigit() == True or word.replace('.','',1).isdigit() == True):\n",
    "                Viterbi_tags[key] = 'NUM'\n",
    "                \n",
    "            ## all letters capitalised i.e. words that begin with capital letters or words that are all\n",
    "            # capital letter are typically proper nouns, so we just assign them as Noun\n",
    "            elif word.upper() == word:\n",
    "                Viterbi_tags[key] = 'NOUN'\n",
    "                \n",
    "            ## first letter is capitalised:\n",
    "            elif word[0].upper() == word[0]:\n",
    "                Viterbi_tags[key] = 'NOUN' \n",
    "            \n",
    "            # and the default is, if we dont know anything, we assign it as Noun\n",
    "            else: \n",
    "                Viterbi_tags[key] = 'NOUN'\n",
    "    \n",
    "    return list(zip(words, Viterbi_tags))     "
   ]
  },
  {
   "cell_type": "code",
   "execution_count": 594,
   "metadata": {},
   "outputs": [],
   "source": [
    "test_Viterbimodf2 = Viterbi_modf2(test_tagged_words)"
   ]
  },
  {
   "cell_type": "code",
   "execution_count": 595,
   "metadata": {},
   "outputs": [
    {
     "data": {
      "text/plain": [
       "[('``', '.'),\n",
       " ('Nor', 'NOUN'),\n",
       " ('are', 'VERB'),\n",
       " ('you', 'PRON'),\n",
       " ('free', 'ADJ'),\n",
       " ('*-2', 'X'),\n",
       " ('to', 'PRT'),\n",
       " ('reprint', 'NOUN'),\n",
       " ('such', 'ADJ'),\n",
       " ('material', 'NOUN'),\n",
       " (',', '.'),\n",
       " (\"''\", '.'),\n",
       " ('I', 'PRON'),\n",
       " ('was', 'VERB'),\n",
       " ('advised', 'NOUN'),\n",
       " ('*-31', 'X'),\n",
       " ('*T*-1', 'X'),\n",
       " ('.', '.'),\n",
       " ('Ad', 'NOUN'),\n",
       " ('Notes', 'NOUN'),\n",
       " ('...', '.'),\n",
       " ('.', '.'),\n",
       " ('The', 'DET'),\n",
       " ('yield', 'NOUN'),\n",
       " ('on', 'ADP'),\n",
       " ('six-month', 'ADJ'),\n",
       " ('Treasury', 'NOUN'),\n",
       " ('bills', 'NOUN'),\n",
       " ('sold', 'VERB'),\n",
       " ('*', 'X'),\n",
       " ('at', 'ADP'),\n",
       " ('Monday', 'NOUN'),\n",
       " (\"'s\", 'PRT'),\n",
       " ('auction', 'NOUN'),\n",
       " (',', '.'),\n",
       " ('for', 'ADP'),\n",
       " ('example', 'NOUN'),\n",
       " (',', '.'),\n",
       " ('rose', 'VERB'),\n",
       " ('to', 'PRT'),\n",
       " ('8.04', 'NUM'),\n",
       " ('%', 'NOUN'),\n",
       " ('from', 'ADP'),\n",
       " ('7.90', 'NUM'),\n",
       " ('%', 'NOUN'),\n",
       " ('.', '.'),\n",
       " ('When', 'ADV'),\n",
       " ('Scoring', 'NOUN'),\n",
       " ('High', 'NOUN'),\n",
       " ('first', 'ADJ'),\n",
       " ('came', 'VERB'),\n",
       " ('out', 'PRT'),\n",
       " ('in', 'ADP'),\n",
       " ('1979', 'NUM'),\n",
       " ('*T*-1', 'X'),\n",
       " (',', '.'),\n",
       " ('it', 'PRON'),\n",
       " ('was', 'VERB'),\n",
       " ('a', 'DET'),\n",
       " ('publication', 'NOUN'),\n",
       " ('of', 'ADP'),\n",
       " ('Random', 'NOUN'),\n",
       " ('House', 'NOUN'),\n",
       " ('.', '.'),\n",
       " ('He', 'PRON'),\n",
       " ('was', 'VERB'),\n",
       " ('previously', 'ADV'),\n",
       " ('vice', 'NOUN'),\n",
       " ('president', 'NOUN'),\n",
       " ('.', '.')]"
      ]
     },
     "execution_count": 595,
     "metadata": {},
     "output_type": "execute_result"
    }
   ],
   "source": [
    "test_Viterbimodf2"
   ]
  },
  {
   "cell_type": "code",
   "execution_count": 596,
   "metadata": {},
   "outputs": [
    {
     "data": {
      "text/plain": [
       "0.9285714285714286"
      ]
     },
     "execution_count": 596,
     "metadata": {},
     "output_type": "execute_result"
    }
   ],
   "source": [
    "# accuracy\n",
    "check_modf2 = [i for i, j in zip(test_Viterbimodf2, test_run_base) if i == j] \n",
    "accuracy_modf2 = len(check_modf2)/len(test_Viterbimodf2)\n",
    "\n",
    "accuracy_modf2"
   ]
  },
  {
   "cell_type": "code",
   "execution_count": 597,
   "metadata": {},
   "outputs": [
    {
     "data": {
      "text/plain": [
       "[[('``', '.'), (('Nor', 'NOUN'), ('Nor', 'CONJ'))],\n",
       " [('to', 'PRT'), (('reprint', 'NOUN'), ('reprint', 'VERB'))],\n",
       " [('was', 'VERB'), (('advised', 'NOUN'), ('advised', 'VERB'))],\n",
       " [('High', 'NOUN'), (('first', 'ADJ'), ('first', 'ADV'))],\n",
       " [('came', 'VERB'), (('out', 'PRT'), ('out', 'ADV'))]]"
      ]
     },
     "execution_count": 597,
     "metadata": {},
     "output_type": "execute_result"
    }
   ],
   "source": [
    "incorrect_tagged_cases = [[test_run_base[i-1],j] for i, j in enumerate(zip(test_Viterbimodf2, test_run_base)) if j[0]!=j[1]]\n",
    "incorrect_tagged_cases"
   ]
  },
  {
   "cell_type": "code",
   "execution_count": 598,
   "metadata": {},
   "outputs": [
    {
     "data": {
      "text/plain": [
       "[('Android', 'NOUN'),\n",
       " ('is', 'VERB'),\n",
       " ('a', 'DET'),\n",
       " ('mobile', 'ADJ'),\n",
       " ('operating', 'NOUN'),\n",
       " ('system', 'NOUN'),\n",
       " ('developed', 'VERB'),\n",
       " ('by', 'ADP'),\n",
       " ('Google', 'NOUN'),\n",
       " ('.', '.'),\n",
       " ('Android', 'NOUN'),\n",
       " ('has', 'VERB'),\n",
       " ('been', 'VERB'),\n",
       " ('the', 'DET'),\n",
       " ('best-selling', 'NOUN'),\n",
       " ('OS', 'NOUN'),\n",
       " ('worldwide', 'NOUN'),\n",
       " ('on', 'ADP'),\n",
       " ('smartphones', 'NOUN'),\n",
       " ('since', 'ADP'),\n",
       " ('2011', 'NUM'),\n",
       " ('and', 'CONJ'),\n",
       " ('on', 'ADP'),\n",
       " ('tablets', 'NOUN'),\n",
       " ('since', 'ADP'),\n",
       " ('2013', 'NUM'),\n",
       " ('.', '.'),\n",
       " ('Google', 'NOUN'),\n",
       " ('and', 'CONJ'),\n",
       " ('Twitter', 'NOUN'),\n",
       " ('made', 'VERB'),\n",
       " ('a', 'DET'),\n",
       " ('deal', 'NOUN'),\n",
       " ('in', 'ADP'),\n",
       " ('2015', 'NUM'),\n",
       " ('that', 'ADP'),\n",
       " ('gave', 'VERB'),\n",
       " ('Google', 'NOUN'),\n",
       " ('access', 'NOUN'),\n",
       " ('to', 'PRT'),\n",
       " ('Twitters', 'NOUN'),\n",
       " ('firehose', 'NOUN'),\n",
       " ('.', '.'),\n",
       " ('Twitter', 'NOUN'),\n",
       " ('is', 'VERB'),\n",
       " ('an', 'DET'),\n",
       " ('online', 'NOUN'),\n",
       " ('news', 'NOUN'),\n",
       " ('and', 'CONJ'),\n",
       " ('social', 'ADJ'),\n",
       " ('networking', 'NOUN'),\n",
       " ('service', 'NOUN'),\n",
       " ('on', 'ADP'),\n",
       " ('which', 'DET'),\n",
       " ('users', 'NOUN'),\n",
       " ('post', 'VERB'),\n",
       " ('and', 'CONJ'),\n",
       " ('interact', 'NOUN'),\n",
       " ('with', 'ADP'),\n",
       " ('messages', 'NOUN'),\n",
       " ('known', 'ADJ'),\n",
       " ('as', 'ADP'),\n",
       " ('tweets', 'NOUN'),\n",
       " ('.', '.'),\n",
       " ('Before', 'ADP'),\n",
       " ('entering', 'VERB'),\n",
       " ('politics', 'NOUN'),\n",
       " (',', '.'),\n",
       " ('Donald', 'NOUN'),\n",
       " ('Trump', 'NOUN'),\n",
       " ('was', 'VERB'),\n",
       " ('a', 'DET'),\n",
       " ('domineering', 'NOUN'),\n",
       " ('businessman', 'NOUN'),\n",
       " ('and', 'CONJ'),\n",
       " ('a', 'DET'),\n",
       " ('television', 'NOUN'),\n",
       " ('personality', 'NOUN'),\n",
       " ('.', '.'),\n",
       " ('The', 'DET'),\n",
       " ('2018', 'NUM'),\n",
       " ('FIFA', 'NOUN'),\n",
       " ('World', 'NOUN'),\n",
       " ('Cup', 'NOUN'),\n",
       " ('is', 'VERB'),\n",
       " ('the', 'DET'),\n",
       " ('21st', 'NOUN'),\n",
       " ('FIFA', 'NOUN'),\n",
       " ('World', 'NOUN'),\n",
       " ('Cup', 'NOUN'),\n",
       " (',', '.'),\n",
       " ('an', 'DET'),\n",
       " ('international', 'ADJ'),\n",
       " ('football', 'NOUN'),\n",
       " ('tournament', 'NOUN'),\n",
       " ('contested', 'NOUN'),\n",
       " ('once', 'ADV'),\n",
       " ('every', 'DET'),\n",
       " ('four', 'NUM'),\n",
       " ('years', 'NOUN'),\n",
       " ('.', '.'),\n",
       " ('This', 'DET'),\n",
       " ('is', 'VERB'),\n",
       " ('the', 'DET'),\n",
       " ('first', 'ADJ'),\n",
       " ('World', 'NOUN'),\n",
       " ('Cup', 'NOUN'),\n",
       " ('to', 'PRT'),\n",
       " ('be', 'VERB'),\n",
       " ('held', 'VERB'),\n",
       " ('in', 'ADP'),\n",
       " ('Eastern', 'NOUN'),\n",
       " ('Europe', 'NOUN'),\n",
       " ('and', 'CONJ'),\n",
       " ('the', 'DET'),\n",
       " ('11th', 'ADJ'),\n",
       " ('time', 'NOUN'),\n",
       " ('that', 'ADP'),\n",
       " ('it', 'PRON'),\n",
       " ('has', 'VERB'),\n",
       " ('been', 'VERB'),\n",
       " ('held', 'VERB'),\n",
       " ('in', 'ADP'),\n",
       " ('Europe', 'NOUN'),\n",
       " ('.', '.'),\n",
       " ('Show', 'NOUN'),\n",
       " ('me', 'PRON'),\n",
       " ('the', 'DET'),\n",
       " ('cheapest', 'ADJ'),\n",
       " ('round', 'NOUN'),\n",
       " ('trips', 'NOUN'),\n",
       " ('from', 'ADP'),\n",
       " ('Dallas', 'NOUN'),\n",
       " ('to', 'PRT'),\n",
       " ('AtlantaI', 'NOUN'),\n",
       " ('would', 'VERB'),\n",
       " ('like', 'ADP'),\n",
       " ('to', 'PRT'),\n",
       " ('see', 'VERB'),\n",
       " ('flights', 'NOUN'),\n",
       " ('from', 'ADP'),\n",
       " ('Denver', 'NOUN'),\n",
       " ('to', 'PRT'),\n",
       " ('Philadelphia', 'NOUN'),\n",
       " ('.', '.'),\n",
       " ('Show', 'NOUN'),\n",
       " ('me', 'PRON'),\n",
       " ('the', 'DET'),\n",
       " ('price', 'NOUN'),\n",
       " ('of', 'ADP'),\n",
       " ('the', 'DET'),\n",
       " ('flights', 'NOUN'),\n",
       " ('leaving', 'VERB'),\n",
       " ('Atlanta', 'NOUN'),\n",
       " ('at', 'ADP'),\n",
       " ('about', 'ADP'),\n",
       " ('3', 'NUM'),\n",
       " ('in', 'ADP'),\n",
       " ('the', 'DET'),\n",
       " ('afternoon', 'NOUN'),\n",
       " ('and', 'CONJ'),\n",
       " ('arriving', 'NOUN'),\n",
       " ('in', 'ADP'),\n",
       " ('San', 'NOUN'),\n",
       " ('Francisco', 'NOUN'),\n",
       " ('.', '.'),\n",
       " ('NASA', 'NOUN'),\n",
       " ('invited', 'NOUN'),\n",
       " ('social', 'ADJ'),\n",
       " ('media', 'NOUN'),\n",
       " ('users', 'NOUN'),\n",
       " ('to', 'PRT'),\n",
       " ('experience', 'NOUN'),\n",
       " ('the', 'DET'),\n",
       " ('launch', 'NOUN'),\n",
       " ('of', 'ADP'),\n",
       " ('ICESAT-2', 'NOUN'),\n",
       " ('Satellite', 'NOUN'),\n",
       " ('.', '.')]"
      ]
     },
     "execution_count": 598,
     "metadata": {},
     "output_type": "execute_result"
    }
   ],
   "source": [
    "#tagging the test sentence\n",
    "testSentence_Viterbimodify2 = Viterbi_modf2(words)\n",
    "testSentence_Viterbimodify2"
   ]
  },
  {
   "cell_type": "markdown",
   "metadata": {},
   "source": [
    "#### Modification3 : State probability is dependent only on transition probability for the unknown words"
   ]
  },
  {
   "cell_type": "code",
   "execution_count": 599,
   "metadata": {},
   "outputs": [],
   "source": [
    "# Viterbi Modification -3: state probability is dependent only on transition probability\n",
    "def Viterbi_modf3(words, train_bag = train_tagged_words):\n",
    "    state = []\n",
    "    T = list(set([pair[1] for pair in train_bag]))\n",
    "    \n",
    "    for key, word in enumerate(words):\n",
    "        #initialise list of probability column for a given observation\n",
    "        p = [] \n",
    "        for tag in T:\n",
    "            if key == 0:\n",
    "                transition_p = tags_df.loc['.', tag]\n",
    "            else:\n",
    "                transition_p = tags_df.loc[state[-1], tag]\n",
    "                \n",
    "            # compute emission and state probabilities\n",
    "            emission_p = word_given_tag(words[key], tag)[0]/word_given_tag(words[key], tag)[1]\n",
    "            \n",
    "            # MAIN LOGIC\n",
    "            if word in V:\n",
    "                state_probability = transition_p * emission_p              \n",
    "            else:\n",
    "                state_probability = transition_p\n",
    "            \n",
    "            p.append(state_probability)\n",
    "            \n",
    "        pmax = max(p)\n",
    "        # getting state for which probability is maximum\n",
    "        state_max = T[p.index(pmax)] \n",
    "        state.append(state_max)\n",
    "        #print(key)\n",
    "    return list(zip(words, state))"
   ]
  },
  {
   "cell_type": "code",
   "execution_count": 600,
   "metadata": {},
   "outputs": [],
   "source": [
    "# tagging the test sentences\n",
    "test_Viterbimodf3 = Viterbi_modf3(test_tagged_words)"
   ]
  },
  {
   "cell_type": "code",
   "execution_count": 601,
   "metadata": {},
   "outputs": [
    {
     "name": "stdout",
     "output_type": "stream",
     "text": [
      "0.9428571428571428\n"
     ]
    }
   ],
   "source": [
    "# accuracy\n",
    "check_modf3 = [i for i, j in zip(test_Viterbimodf3, test_run_base) if i == j] \n",
    "\n",
    "accuracy_modf3 = len(check_modf3)/len(test_Viterbimodf3)\n",
    "print(accuracy_modf3)\n",
    "# This is not as good, but atleast better than our raw model."
   ]
  },
  {
   "cell_type": "code",
   "execution_count": 602,
   "metadata": {},
   "outputs": [
    {
     "data": {
      "text/plain": [
       "[[('``', '.'), (('Nor', 'NOUN'), ('Nor', 'CONJ'))],\n",
       " [('was', 'VERB'), (('advised', 'X'), ('advised', 'VERB'))],\n",
       " [('High', 'NOUN'), (('first', 'ADJ'), ('first', 'ADV'))],\n",
       " [('came', 'VERB'), (('out', 'PRT'), ('out', 'ADV'))]]"
      ]
     },
     "execution_count": 602,
     "metadata": {},
     "output_type": "execute_result"
    }
   ],
   "source": [
    "incorrect_tagged_cases = [[test_run_base[i-1],j] for i, j in enumerate(zip(test_Viterbimodf3, test_run_base)) if j[0]!=j[1]]\n",
    "incorrect_tagged_cases"
   ]
  },
  {
   "cell_type": "code",
   "execution_count": 603,
   "metadata": {},
   "outputs": [
    {
     "data": {
      "text/plain": [
       "[('Android', 'NOUN'),\n",
       " ('is', 'VERB'),\n",
       " ('a', 'DET'),\n",
       " ('mobile', 'ADJ'),\n",
       " ('operating', 'NOUN'),\n",
       " ('system', 'NOUN'),\n",
       " ('developed', 'VERB'),\n",
       " ('by', 'ADP'),\n",
       " ('Google', 'NOUN'),\n",
       " ('.', '.'),\n",
       " ('Android', 'NOUN'),\n",
       " ('has', 'VERB'),\n",
       " ('been', 'VERB'),\n",
       " ('the', 'DET'),\n",
       " ('best-selling', 'NOUN'),\n",
       " ('OS', 'NOUN'),\n",
       " ('worldwide', 'NOUN'),\n",
       " ('on', 'ADP'),\n",
       " ('smartphones', 'NOUN'),\n",
       " ('since', 'ADP'),\n",
       " ('2011', 'NOUN'),\n",
       " ('and', 'CONJ'),\n",
       " ('on', 'ADP'),\n",
       " ('tablets', 'NOUN'),\n",
       " ('since', 'ADP'),\n",
       " ('2013', 'NOUN'),\n",
       " ('.', '.'),\n",
       " ('Google', 'NOUN'),\n",
       " ('and', 'CONJ'),\n",
       " ('Twitter', 'NOUN'),\n",
       " ('made', 'VERB'),\n",
       " ('a', 'DET'),\n",
       " ('deal', 'NOUN'),\n",
       " ('in', 'ADP'),\n",
       " ('2015', 'NOUN'),\n",
       " ('that', 'ADP'),\n",
       " ('gave', 'VERB'),\n",
       " ('Google', 'X'),\n",
       " ('access', 'NOUN'),\n",
       " ('to', 'PRT'),\n",
       " ('Twitters', 'VERB'),\n",
       " ('firehose', 'X'),\n",
       " ('.', '.'),\n",
       " ('Twitter', 'NOUN'),\n",
       " ('is', 'VERB'),\n",
       " ('an', 'DET'),\n",
       " ('online', 'NOUN'),\n",
       " ('news', 'NOUN'),\n",
       " ('and', 'CONJ'),\n",
       " ('social', 'ADJ'),\n",
       " ('networking', 'NOUN'),\n",
       " ('service', 'NOUN'),\n",
       " ('on', 'ADP'),\n",
       " ('which', 'DET'),\n",
       " ('users', 'NOUN'),\n",
       " ('post', 'VERB'),\n",
       " ('and', 'CONJ'),\n",
       " ('interact', 'NOUN'),\n",
       " ('with', 'ADP'),\n",
       " ('messages', 'NOUN'),\n",
       " ('known', 'VERB'),\n",
       " ('as', 'ADP'),\n",
       " ('tweets', 'NOUN'),\n",
       " ('.', '.'),\n",
       " ('Before', 'ADP'),\n",
       " ('entering', 'VERB'),\n",
       " ('politics', 'NOUN'),\n",
       " (',', '.'),\n",
       " ('Donald', 'NOUN'),\n",
       " ('Trump', 'NOUN'),\n",
       " ('was', 'VERB'),\n",
       " ('a', 'DET'),\n",
       " ('domineering', 'NOUN'),\n",
       " ('businessman', 'NOUN'),\n",
       " ('and', 'CONJ'),\n",
       " ('a', 'DET'),\n",
       " ('television', 'NOUN'),\n",
       " ('personality', 'NOUN'),\n",
       " ('.', '.'),\n",
       " ('The', 'DET'),\n",
       " ('2018', 'NOUN'),\n",
       " ('FIFA', 'NOUN'),\n",
       " ('World', 'NOUN'),\n",
       " ('Cup', 'NOUN'),\n",
       " ('is', 'VERB'),\n",
       " ('the', 'DET'),\n",
       " ('21st', 'NOUN'),\n",
       " ('FIFA', 'NOUN'),\n",
       " ('World', 'NOUN'),\n",
       " ('Cup', 'NOUN'),\n",
       " (',', '.'),\n",
       " ('an', 'DET'),\n",
       " ('international', 'ADJ'),\n",
       " ('football', 'NOUN'),\n",
       " ('tournament', 'NOUN'),\n",
       " ('contested', 'NOUN'),\n",
       " ('once', 'ADV'),\n",
       " ('every', 'DET'),\n",
       " ('four', 'NUM'),\n",
       " ('years', 'NOUN'),\n",
       " ('.', '.'),\n",
       " ('This', 'DET'),\n",
       " ('is', 'VERB'),\n",
       " ('the', 'DET'),\n",
       " ('first', 'ADJ'),\n",
       " ('World', 'NOUN'),\n",
       " ('Cup', 'NOUN'),\n",
       " ('to', 'PRT'),\n",
       " ('be', 'VERB'),\n",
       " ('held', 'VERB'),\n",
       " ('in', 'ADP'),\n",
       " ('Eastern', 'NOUN'),\n",
       " ('Europe', 'NOUN'),\n",
       " ('and', 'CONJ'),\n",
       " ('the', 'DET'),\n",
       " ('11th', 'ADJ'),\n",
       " ('time', 'NOUN'),\n",
       " ('that', 'ADP'),\n",
       " ('it', 'PRON'),\n",
       " ('has', 'VERB'),\n",
       " ('been', 'VERB'),\n",
       " ('held', 'VERB'),\n",
       " ('in', 'ADP'),\n",
       " ('Europe', 'NOUN'),\n",
       " ('.', '.'),\n",
       " ('Show', 'NOUN'),\n",
       " ('me', 'PRON'),\n",
       " ('the', 'DET'),\n",
       " ('cheapest', 'ADJ'),\n",
       " ('round', 'NOUN'),\n",
       " ('trips', 'NOUN'),\n",
       " ('from', 'ADP'),\n",
       " ('Dallas', 'NOUN'),\n",
       " ('to', 'PRT'),\n",
       " ('AtlantaI', 'VERB'),\n",
       " ('would', 'VERB'),\n",
       " ('like', 'ADP'),\n",
       " ('to', 'PRT'),\n",
       " ('see', 'VERB'),\n",
       " ('flights', 'NOUN'),\n",
       " ('from', 'ADP'),\n",
       " ('Denver', 'NOUN'),\n",
       " ('to', 'PRT'),\n",
       " ('Philadelphia', 'NOUN'),\n",
       " ('.', '.'),\n",
       " ('Show', 'NOUN'),\n",
       " ('me', 'PRON'),\n",
       " ('the', 'DET'),\n",
       " ('price', 'NOUN'),\n",
       " ('of', 'ADP'),\n",
       " ('the', 'DET'),\n",
       " ('flights', 'NOUN'),\n",
       " ('leaving', 'VERB'),\n",
       " ('Atlanta', 'NOUN'),\n",
       " ('at', 'ADP'),\n",
       " ('about', 'ADP'),\n",
       " ('3', 'NUM'),\n",
       " ('in', 'ADP'),\n",
       " ('the', 'DET'),\n",
       " ('afternoon', 'NOUN'),\n",
       " ('and', 'CONJ'),\n",
       " ('arriving', 'NOUN'),\n",
       " ('in', 'ADP'),\n",
       " ('San', 'NOUN'),\n",
       " ('Francisco', 'NOUN'),\n",
       " ('.', '.'),\n",
       " ('NASA', 'NOUN'),\n",
       " ('invited', 'NOUN'),\n",
       " ('social', 'ADJ'),\n",
       " ('media', 'NOUN'),\n",
       " ('users', 'NOUN'),\n",
       " ('to', 'PRT'),\n",
       " ('experience', 'NOUN'),\n",
       " ('the', 'DET'),\n",
       " ('launch', 'NOUN'),\n",
       " ('of', 'ADP'),\n",
       " ('ICESAT-2', 'NOUN'),\n",
       " ('Satellite', 'NOUN'),\n",
       " ('.', '.')]"
      ]
     },
     "execution_count": 603,
     "metadata": {},
     "output_type": "execute_result"
    }
   ],
   "source": [
    "#tagging the test sentence\n",
    "testSentence_Viterbimodify3 = Viterbi_modf3(words)\n",
    "testSentence_Viterbimodify3"
   ]
  },
  {
   "cell_type": "markdown",
   "metadata": {},
   "source": [
    "#### Evaluating tagging accuracy"
   ]
  },
  {
   "cell_type": "code",
   "execution_count": 604,
   "metadata": {},
   "outputs": [
    {
     "name": "stdout",
     "output_type": "stream",
     "text": [
      "Vanilla Viterbi accuracy =  0.8857142857142857\n"
     ]
    }
   ],
   "source": [
    "print(\"Vanilla Viterbi accuracy = \",accuracy)"
   ]
  },
  {
   "cell_type": "code",
   "execution_count": 605,
   "metadata": {},
   "outputs": [
    {
     "name": "stdout",
     "output_type": "stream",
     "text": [
      "Accuracy after modification 1 = 0.9285714285714286\n"
     ]
    }
   ],
   "source": [
    "print(\"Accuracy after modification 1 =\",accuracy_modf1)"
   ]
  },
  {
   "cell_type": "code",
   "execution_count": 606,
   "metadata": {},
   "outputs": [
    {
     "name": "stdout",
     "output_type": "stream",
     "text": [
      "Accuracy after modification 2 = 0.9285714285714286\n"
     ]
    }
   ],
   "source": [
    "print(\"Accuracy after modification 2 =\",accuracy_modf2)"
   ]
  },
  {
   "cell_type": "code",
   "execution_count": 607,
   "metadata": {},
   "outputs": [
    {
     "name": "stdout",
     "output_type": "stream",
     "text": [
      "Accuracy after modification 3 = 0.9428571428571428\n"
     ]
    }
   ],
   "source": [
    "print(\"Accuracy after modification 3 =\",accuracy_modf3)"
   ]
  },
  {
   "cell_type": "markdown",
   "metadata": {},
   "source": [
    "#### Accuracy is increased after doing modifications in vanilla Viterbi algorithm"
   ]
  },
  {
   "cell_type": "markdown",
   "metadata": {},
   "source": [
    "### Compare the tagging accuracies of the modifications with the vanilla Viterbi algorithm"
   ]
  },
  {
   "cell_type": "code",
   "execution_count": 608,
   "metadata": {},
   "outputs": [
    {
     "name": "stdout",
     "output_type": "stream",
     "text": [
      "Accuracy gain after modification 1 : 0.04285714285714293\n"
     ]
    }
   ],
   "source": [
    "## Increase in accuracy after modification1\n",
    "print(\"Accuracy gain after modification 1 :\",accuracy_modf1-accuracy)"
   ]
  },
  {
   "cell_type": "code",
   "execution_count": 609,
   "metadata": {},
   "outputs": [
    {
     "name": "stdout",
     "output_type": "stream",
     "text": [
      "Accuracy gain after modification 2 : 0.04285714285714293\n"
     ]
    }
   ],
   "source": [
    "## Increase in accuracy after modification2\n",
    "print(\"Accuracy gain after modification 2 :\",accuracy_modf2-accuracy)"
   ]
  },
  {
   "cell_type": "code",
   "execution_count": 610,
   "metadata": {},
   "outputs": [
    {
     "name": "stdout",
     "output_type": "stream",
     "text": [
      "Accuracy gain after modification 3 : 0.05714285714285716\n"
     ]
    }
   ],
   "source": [
    "## Increase in accuracy after modification3\n",
    "print(\"Accuracy gain after modification 3 :\",accuracy_modf3-accuracy)"
   ]
  },
  {
   "cell_type": "code",
   "execution_count": null,
   "metadata": {},
   "outputs": [],
   "source": []
  },
  {
   "cell_type": "markdown",
   "metadata": {},
   "source": [
    "### List down cases which were incorrectly tagged by original POS tagger and got corrected by your modifications"
   ]
  },
  {
   "cell_type": "markdown",
   "metadata": {},
   "source": [
    "1. mood"
   ]
  },
  {
   "cell_type": "markdown",
   "metadata": {},
   "source": [
    "2. deeds"
   ]
  },
  {
   "cell_type": "markdown",
   "metadata": {},
   "source": [
    "3. Bramalea"
   ]
  },
  {
   "cell_type": "markdown",
   "metadata": {},
   "source": [
    "4. 245"
   ]
  },
  {
   "cell_type": "markdown",
   "metadata": {},
   "source": [
    " 5. Advance"
   ]
  },
  {
   "cell_type": "code",
   "execution_count": null,
   "metadata": {},
   "outputs": [],
   "source": []
  }
 ],
 "metadata": {
  "kernelspec": {
   "display_name": "Python 3",
   "language": "python",
   "name": "python3"
  },
  "language_info": {
   "codemirror_mode": {
    "name": "ipython",
    "version": 3
   },
   "file_extension": ".py",
   "mimetype": "text/x-python",
   "name": "python",
   "nbconvert_exporter": "python",
   "pygments_lexer": "ipython3",
   "version": "3.8.8"
  }
 },
 "nbformat": 4,
 "nbformat_minor": 2
}
